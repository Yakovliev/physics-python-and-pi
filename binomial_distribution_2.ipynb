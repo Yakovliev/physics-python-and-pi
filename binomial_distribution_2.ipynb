{
 "cells": [
  {
   "cell_type": "code",
   "execution_count": 68,
   "metadata": {},
   "outputs": [],
   "source": [
    "import numpy as np\n",
    "import plotly.graph_objects as go\n",
    "from scipy.stats import binom\n",
    "# import statsmodels.api as sm\n",
    "# from scipy.special import expit  # Import the expit function\n"
   ]
  },
  {
   "cell_type": "code",
   "execution_count": 69,
   "metadata": {},
   "outputs": [],
   "source": [
    "# Example 1: Flipping a Coin\n",
    "n_trials_coin = 10\n",
    "p_heads = 0.5\n",
    "n_simulations = 1000\n",
    "# Using scipy for generating binomial distributed random variables\n",
    "coin_flips = binom.rvs(n_trials_coin, p_heads, size=n_simulations)"
   ]
  },
  {
   "cell_type": "code",
   "execution_count": 70,
   "metadata": {},
   "outputs": [],
   "source": [
    "# Theoretical values for coin flipping\n",
    "k_values_coin = np.arange(0, n_trials_coin+1)\n",
    "theoretical_pmf_coin = binom.pmf(k_values_coin, n_trials_coin, p_heads) * 100  # Convert to percentage\n"
   ]
  },
  {
   "cell_type": "code",
   "execution_count": 71,
   "metadata": {},
   "outputs": [
    {
     "data": {
      "application/vnd.plotly.v1+json": {
       "config": {
        "plotlyServerURL": "https://plot.ly"
       },
       "data": [
        {
         "histnorm": "percent",
         "marker": {
          "color": "blue"
         },
         "name": "Experimental",
         "nbinsx": 11,
         "type": "histogram",
         "x": [
          6,
          7,
          5,
          6,
          6,
          5,
          5,
          7,
          2,
          6,
          8,
          7,
          3,
          4,
          7,
          3,
          5,
          5,
          7,
          2,
          5,
          6,
          5,
          6,
          6,
          2,
          5,
          5,
          3,
          7,
          4,
          3,
          8,
          6,
          6,
          8,
          2,
          5,
          6,
          3,
          6,
          5,
          4,
          5,
          3,
          3,
          7,
          5,
          5,
          5,
          3,
          2,
          6,
          5,
          5,
          7,
          5,
          8,
          4,
          8,
          4,
          5,
          7,
          3,
          5,
          6,
          3,
          6,
          5,
          6,
          5,
          2,
          4,
          5,
          2,
          8,
          5,
          7,
          5,
          2,
          5,
          5,
          5,
          6,
          1,
          4,
          5,
          5,
          6,
          3,
          3,
          6,
          6,
          7,
          6,
          5,
          5,
          4,
          4,
          8,
          5,
          4,
          7,
          5,
          1,
          6,
          1,
          5,
          4,
          4,
          8,
          6,
          4,
          4,
          6,
          3,
          3,
          6,
          3,
          6,
          9,
          3,
          6,
          4,
          4,
          4,
          5,
          2,
          5,
          3,
          5,
          4,
          4,
          6,
          8,
          3,
          5,
          4,
          5,
          6,
          7,
          4,
          7,
          4,
          4,
          6,
          6,
          6,
          5,
          5,
          7,
          3,
          6,
          6,
          5,
          5,
          4,
          3,
          3,
          3,
          5,
          4,
          4,
          5,
          2,
          6,
          7,
          6,
          5,
          5,
          5,
          6,
          6,
          5,
          6,
          1,
          5,
          3,
          6,
          6,
          5,
          2,
          4,
          5,
          4,
          4,
          2,
          5,
          4,
          8,
          6,
          7,
          6,
          8,
          5,
          2,
          5,
          9,
          3,
          5,
          9,
          6,
          5,
          6,
          4,
          4,
          5,
          4,
          6,
          6,
          5,
          6,
          5,
          6,
          4,
          5,
          7,
          5,
          6,
          6,
          3,
          5,
          6,
          4,
          8,
          4,
          5,
          5,
          4,
          4,
          7,
          5,
          5,
          6,
          5,
          6,
          6,
          5,
          6,
          9,
          6,
          4,
          7,
          4,
          5,
          7,
          5,
          8,
          5,
          8,
          4,
          5,
          7,
          6,
          4,
          7,
          4,
          7,
          3,
          6,
          7,
          5,
          7,
          7,
          3,
          5,
          1,
          3,
          3,
          6,
          6,
          7,
          5,
          6,
          3,
          3,
          4,
          3,
          5,
          5,
          5,
          7,
          3,
          4,
          5,
          7,
          7,
          4,
          5,
          6,
          5,
          7,
          5,
          2,
          2,
          3,
          5,
          4,
          8,
          5,
          6,
          4,
          5,
          6,
          6,
          6,
          5,
          3,
          3,
          5,
          7,
          3,
          4,
          7,
          5,
          5,
          3,
          6,
          4,
          4,
          5,
          7,
          6,
          3,
          7,
          6,
          5,
          7,
          5,
          8,
          3,
          4,
          4,
          6,
          2,
          9,
          4,
          6,
          5,
          4,
          3,
          6,
          6,
          5,
          8,
          7,
          7,
          6,
          7,
          4,
          6,
          5,
          5,
          5,
          3,
          6,
          4,
          3,
          4,
          1,
          2,
          5,
          5,
          3,
          3,
          6,
          5,
          4,
          3,
          3,
          8,
          3,
          3,
          7,
          6,
          6,
          7,
          3,
          4,
          5,
          4,
          4,
          6,
          7,
          7,
          7,
          5,
          5,
          6,
          6,
          6,
          4,
          8,
          4,
          5,
          4,
          4,
          6,
          4,
          5,
          5,
          3,
          5,
          5,
          6,
          4,
          3,
          6,
          3,
          7,
          8,
          4,
          4,
          4,
          7,
          6,
          5,
          5,
          6,
          6,
          2,
          4,
          7,
          1,
          4,
          5,
          4,
          2,
          6,
          7,
          7,
          4,
          5,
          6,
          4,
          4,
          6,
          4,
          6,
          4,
          7,
          8,
          6,
          2,
          6,
          5,
          7,
          5,
          10,
          6,
          5,
          5,
          7,
          7,
          7,
          8,
          2,
          4,
          6,
          6,
          4,
          3,
          5,
          6,
          5,
          4,
          5,
          6,
          5,
          7,
          3,
          7,
          5,
          8,
          3,
          7,
          6,
          5,
          7,
          7,
          5,
          7,
          4,
          7,
          7,
          8,
          4,
          5,
          4,
          7,
          4,
          4,
          7,
          4,
          5,
          5,
          2,
          7,
          5,
          3,
          8,
          4,
          5,
          5,
          4,
          7,
          6,
          4,
          5,
          8,
          2,
          3,
          1,
          2,
          6,
          4,
          4,
          5,
          6,
          6,
          5,
          6,
          4,
          6,
          4,
          4,
          6,
          8,
          3,
          4,
          6,
          6,
          4,
          5,
          7,
          7,
          6,
          7,
          4,
          5,
          5,
          4,
          6,
          6,
          7,
          4,
          7,
          3,
          4,
          2,
          5,
          7,
          7,
          5,
          7,
          6,
          2,
          5,
          6,
          9,
          4,
          7,
          4,
          5,
          6,
          4,
          3,
          3,
          2,
          5,
          5,
          5,
          4,
          5,
          5,
          3,
          6,
          6,
          5,
          5,
          6,
          5,
          6,
          7,
          6,
          5,
          5,
          6,
          4,
          5,
          7,
          7,
          3,
          6,
          5,
          2,
          5,
          7,
          6,
          7,
          7,
          2,
          4,
          6,
          6,
          6,
          5,
          4,
          6,
          8,
          6,
          3,
          6,
          6,
          6,
          5,
          4,
          4,
          7,
          4,
          3,
          7,
          5,
          2,
          2,
          7,
          5,
          7,
          5,
          4,
          5,
          3,
          4,
          5,
          4,
          2,
          3,
          4,
          5,
          4,
          6,
          6,
          4,
          6,
          4,
          6,
          2,
          6,
          4,
          6,
          4,
          6,
          4,
          7,
          6,
          6,
          8,
          7,
          4,
          6,
          7,
          6,
          7,
          4,
          3,
          4,
          6,
          2,
          5,
          5,
          4,
          3,
          5,
          6,
          6,
          5,
          4,
          5,
          3,
          7,
          5,
          5,
          8,
          3,
          6,
          3,
          4,
          5,
          7,
          4,
          6,
          6,
          3,
          8,
          6,
          5,
          8,
          3,
          6,
          3,
          7,
          8,
          7,
          5,
          5,
          6,
          6,
          4,
          5,
          8,
          6,
          3,
          5,
          6,
          1,
          6,
          5,
          5,
          8,
          4,
          5,
          5,
          7,
          6,
          6,
          4,
          5,
          4,
          4,
          4,
          3,
          4,
          6,
          4,
          4,
          6,
          3,
          5,
          5,
          4,
          6,
          4,
          4,
          6,
          9,
          2,
          6,
          8,
          4,
          4,
          3,
          3,
          5,
          5,
          5,
          6,
          6,
          5,
          4,
          5,
          5,
          4,
          7,
          4,
          3,
          5,
          7,
          6,
          4,
          3,
          5,
          4,
          5,
          4,
          6,
          3,
          3,
          4,
          4,
          4,
          3,
          5,
          4,
          4,
          5,
          6,
          6,
          6,
          4,
          5,
          7,
          4,
          7,
          3,
          3,
          8,
          7,
          6,
          3,
          3,
          5,
          7,
          6,
          6,
          7,
          2,
          1,
          4,
          2,
          4,
          7,
          3,
          6,
          7,
          6,
          5,
          4,
          6,
          5,
          4,
          6,
          5,
          6,
          7,
          5,
          6,
          3,
          1,
          4,
          4,
          5,
          5,
          8,
          6,
          5,
          2,
          6,
          5,
          6,
          3,
          7,
          4,
          4,
          7,
          6,
          5,
          6,
          4,
          5,
          6,
          3,
          3,
          4,
          1,
          2,
          6,
          6,
          5,
          5,
          5,
          5,
          7,
          7,
          6,
          1,
          7,
          4,
          4,
          6,
          5,
          7,
          8,
          5,
          6,
          2,
          5,
          6,
          2,
          4,
          6,
          3,
          2,
          4,
          4,
          7,
          3,
          3,
          6,
          4,
          5,
          6,
          4,
          2,
          7,
          1,
          7,
          7,
          6,
          5,
          5,
          4,
          7,
          5,
          4,
          7,
          6,
          4,
          3,
          6,
          6,
          6,
          7,
          5,
          6,
          3,
          4,
          4,
          7,
          6,
          4,
          5,
          7,
          3,
          6,
          8,
          8,
          6,
          6,
          4,
          6,
          6,
          5,
          5,
          6,
          6,
          3,
          5,
          7,
          7,
          6,
          5,
          5,
          4,
          5,
          3,
          3,
          5,
          6,
          2,
          5,
          5,
          4,
          8,
          3,
          4,
          6,
          6,
          6,
          5,
          2,
          5,
          4,
          3,
          3,
          6,
          7,
          5,
          7,
          4,
          4,
          5,
          5,
          6,
          5,
          6,
          4,
          3,
          3,
          6,
          4,
          6,
          7,
          7,
          6,
          6,
          4,
          6,
          4,
          5,
          3,
          6,
          6,
          5,
          4,
          4,
          4,
          6,
          6,
          2,
          7
         ]
        },
        {
         "marker": {
          "color": "red"
         },
         "mode": "markers+lines",
         "name": "Theoretical",
         "type": "scatter",
         "x": [
          0,
          1,
          2,
          3,
          4,
          5,
          6,
          7,
          8,
          9,
          10
         ],
         "y": [
          0.0976562499999999,
          0.9765625000000003,
          4.394531250000004,
          11.718749999999998,
          20.50781249999999,
          24.609375,
          20.50781249999999,
          11.718749999999996,
          4.394531250000004,
          0.9765625000000003,
          0.09765625
         ]
        }
       ],
       "layout": {
        "bargap": 0.1,
        "template": {
         "data": {
          "bar": [
           {
            "error_x": {
             "color": "#2a3f5f"
            },
            "error_y": {
             "color": "#2a3f5f"
            },
            "marker": {
             "line": {
              "color": "#E5ECF6",
              "width": 0.5
             },
             "pattern": {
              "fillmode": "overlay",
              "size": 10,
              "solidity": 0.2
             }
            },
            "type": "bar"
           }
          ],
          "barpolar": [
           {
            "marker": {
             "line": {
              "color": "#E5ECF6",
              "width": 0.5
             },
             "pattern": {
              "fillmode": "overlay",
              "size": 10,
              "solidity": 0.2
             }
            },
            "type": "barpolar"
           }
          ],
          "carpet": [
           {
            "aaxis": {
             "endlinecolor": "#2a3f5f",
             "gridcolor": "white",
             "linecolor": "white",
             "minorgridcolor": "white",
             "startlinecolor": "#2a3f5f"
            },
            "baxis": {
             "endlinecolor": "#2a3f5f",
             "gridcolor": "white",
             "linecolor": "white",
             "minorgridcolor": "white",
             "startlinecolor": "#2a3f5f"
            },
            "type": "carpet"
           }
          ],
          "choropleth": [
           {
            "colorbar": {
             "outlinewidth": 0,
             "ticks": ""
            },
            "type": "choropleth"
           }
          ],
          "contour": [
           {
            "colorbar": {
             "outlinewidth": 0,
             "ticks": ""
            },
            "colorscale": [
             [
              0,
              "#0d0887"
             ],
             [
              0.1111111111111111,
              "#46039f"
             ],
             [
              0.2222222222222222,
              "#7201a8"
             ],
             [
              0.3333333333333333,
              "#9c179e"
             ],
             [
              0.4444444444444444,
              "#bd3786"
             ],
             [
              0.5555555555555556,
              "#d8576b"
             ],
             [
              0.6666666666666666,
              "#ed7953"
             ],
             [
              0.7777777777777778,
              "#fb9f3a"
             ],
             [
              0.8888888888888888,
              "#fdca26"
             ],
             [
              1,
              "#f0f921"
             ]
            ],
            "type": "contour"
           }
          ],
          "contourcarpet": [
           {
            "colorbar": {
             "outlinewidth": 0,
             "ticks": ""
            },
            "type": "contourcarpet"
           }
          ],
          "heatmap": [
           {
            "colorbar": {
             "outlinewidth": 0,
             "ticks": ""
            },
            "colorscale": [
             [
              0,
              "#0d0887"
             ],
             [
              0.1111111111111111,
              "#46039f"
             ],
             [
              0.2222222222222222,
              "#7201a8"
             ],
             [
              0.3333333333333333,
              "#9c179e"
             ],
             [
              0.4444444444444444,
              "#bd3786"
             ],
             [
              0.5555555555555556,
              "#d8576b"
             ],
             [
              0.6666666666666666,
              "#ed7953"
             ],
             [
              0.7777777777777778,
              "#fb9f3a"
             ],
             [
              0.8888888888888888,
              "#fdca26"
             ],
             [
              1,
              "#f0f921"
             ]
            ],
            "type": "heatmap"
           }
          ],
          "heatmapgl": [
           {
            "colorbar": {
             "outlinewidth": 0,
             "ticks": ""
            },
            "colorscale": [
             [
              0,
              "#0d0887"
             ],
             [
              0.1111111111111111,
              "#46039f"
             ],
             [
              0.2222222222222222,
              "#7201a8"
             ],
             [
              0.3333333333333333,
              "#9c179e"
             ],
             [
              0.4444444444444444,
              "#bd3786"
             ],
             [
              0.5555555555555556,
              "#d8576b"
             ],
             [
              0.6666666666666666,
              "#ed7953"
             ],
             [
              0.7777777777777778,
              "#fb9f3a"
             ],
             [
              0.8888888888888888,
              "#fdca26"
             ],
             [
              1,
              "#f0f921"
             ]
            ],
            "type": "heatmapgl"
           }
          ],
          "histogram": [
           {
            "marker": {
             "pattern": {
              "fillmode": "overlay",
              "size": 10,
              "solidity": 0.2
             }
            },
            "type": "histogram"
           }
          ],
          "histogram2d": [
           {
            "colorbar": {
             "outlinewidth": 0,
             "ticks": ""
            },
            "colorscale": [
             [
              0,
              "#0d0887"
             ],
             [
              0.1111111111111111,
              "#46039f"
             ],
             [
              0.2222222222222222,
              "#7201a8"
             ],
             [
              0.3333333333333333,
              "#9c179e"
             ],
             [
              0.4444444444444444,
              "#bd3786"
             ],
             [
              0.5555555555555556,
              "#d8576b"
             ],
             [
              0.6666666666666666,
              "#ed7953"
             ],
             [
              0.7777777777777778,
              "#fb9f3a"
             ],
             [
              0.8888888888888888,
              "#fdca26"
             ],
             [
              1,
              "#f0f921"
             ]
            ],
            "type": "histogram2d"
           }
          ],
          "histogram2dcontour": [
           {
            "colorbar": {
             "outlinewidth": 0,
             "ticks": ""
            },
            "colorscale": [
             [
              0,
              "#0d0887"
             ],
             [
              0.1111111111111111,
              "#46039f"
             ],
             [
              0.2222222222222222,
              "#7201a8"
             ],
             [
              0.3333333333333333,
              "#9c179e"
             ],
             [
              0.4444444444444444,
              "#bd3786"
             ],
             [
              0.5555555555555556,
              "#d8576b"
             ],
             [
              0.6666666666666666,
              "#ed7953"
             ],
             [
              0.7777777777777778,
              "#fb9f3a"
             ],
             [
              0.8888888888888888,
              "#fdca26"
             ],
             [
              1,
              "#f0f921"
             ]
            ],
            "type": "histogram2dcontour"
           }
          ],
          "mesh3d": [
           {
            "colorbar": {
             "outlinewidth": 0,
             "ticks": ""
            },
            "type": "mesh3d"
           }
          ],
          "parcoords": [
           {
            "line": {
             "colorbar": {
              "outlinewidth": 0,
              "ticks": ""
             }
            },
            "type": "parcoords"
           }
          ],
          "pie": [
           {
            "automargin": true,
            "type": "pie"
           }
          ],
          "scatter": [
           {
            "fillpattern": {
             "fillmode": "overlay",
             "size": 10,
             "solidity": 0.2
            },
            "type": "scatter"
           }
          ],
          "scatter3d": [
           {
            "line": {
             "colorbar": {
              "outlinewidth": 0,
              "ticks": ""
             }
            },
            "marker": {
             "colorbar": {
              "outlinewidth": 0,
              "ticks": ""
             }
            },
            "type": "scatter3d"
           }
          ],
          "scattercarpet": [
           {
            "marker": {
             "colorbar": {
              "outlinewidth": 0,
              "ticks": ""
             }
            },
            "type": "scattercarpet"
           }
          ],
          "scattergeo": [
           {
            "marker": {
             "colorbar": {
              "outlinewidth": 0,
              "ticks": ""
             }
            },
            "type": "scattergeo"
           }
          ],
          "scattergl": [
           {
            "marker": {
             "colorbar": {
              "outlinewidth": 0,
              "ticks": ""
             }
            },
            "type": "scattergl"
           }
          ],
          "scattermapbox": [
           {
            "marker": {
             "colorbar": {
              "outlinewidth": 0,
              "ticks": ""
             }
            },
            "type": "scattermapbox"
           }
          ],
          "scatterpolar": [
           {
            "marker": {
             "colorbar": {
              "outlinewidth": 0,
              "ticks": ""
             }
            },
            "type": "scatterpolar"
           }
          ],
          "scatterpolargl": [
           {
            "marker": {
             "colorbar": {
              "outlinewidth": 0,
              "ticks": ""
             }
            },
            "type": "scatterpolargl"
           }
          ],
          "scatterternary": [
           {
            "marker": {
             "colorbar": {
              "outlinewidth": 0,
              "ticks": ""
             }
            },
            "type": "scatterternary"
           }
          ],
          "surface": [
           {
            "colorbar": {
             "outlinewidth": 0,
             "ticks": ""
            },
            "colorscale": [
             [
              0,
              "#0d0887"
             ],
             [
              0.1111111111111111,
              "#46039f"
             ],
             [
              0.2222222222222222,
              "#7201a8"
             ],
             [
              0.3333333333333333,
              "#9c179e"
             ],
             [
              0.4444444444444444,
              "#bd3786"
             ],
             [
              0.5555555555555556,
              "#d8576b"
             ],
             [
              0.6666666666666666,
              "#ed7953"
             ],
             [
              0.7777777777777778,
              "#fb9f3a"
             ],
             [
              0.8888888888888888,
              "#fdca26"
             ],
             [
              1,
              "#f0f921"
             ]
            ],
            "type": "surface"
           }
          ],
          "table": [
           {
            "cells": {
             "fill": {
              "color": "#EBF0F8"
             },
             "line": {
              "color": "white"
             }
            },
            "header": {
             "fill": {
              "color": "#C8D4E3"
             },
             "line": {
              "color": "white"
             }
            },
            "type": "table"
           }
          ]
         },
         "layout": {
          "annotationdefaults": {
           "arrowcolor": "#2a3f5f",
           "arrowhead": 0,
           "arrowwidth": 1
          },
          "autotypenumbers": "strict",
          "coloraxis": {
           "colorbar": {
            "outlinewidth": 0,
            "ticks": ""
           }
          },
          "colorscale": {
           "diverging": [
            [
             0,
             "#8e0152"
            ],
            [
             0.1,
             "#c51b7d"
            ],
            [
             0.2,
             "#de77ae"
            ],
            [
             0.3,
             "#f1b6da"
            ],
            [
             0.4,
             "#fde0ef"
            ],
            [
             0.5,
             "#f7f7f7"
            ],
            [
             0.6,
             "#e6f5d0"
            ],
            [
             0.7,
             "#b8e186"
            ],
            [
             0.8,
             "#7fbc41"
            ],
            [
             0.9,
             "#4d9221"
            ],
            [
             1,
             "#276419"
            ]
           ],
           "sequential": [
            [
             0,
             "#0d0887"
            ],
            [
             0.1111111111111111,
             "#46039f"
            ],
            [
             0.2222222222222222,
             "#7201a8"
            ],
            [
             0.3333333333333333,
             "#9c179e"
            ],
            [
             0.4444444444444444,
             "#bd3786"
            ],
            [
             0.5555555555555556,
             "#d8576b"
            ],
            [
             0.6666666666666666,
             "#ed7953"
            ],
            [
             0.7777777777777778,
             "#fb9f3a"
            ],
            [
             0.8888888888888888,
             "#fdca26"
            ],
            [
             1,
             "#f0f921"
            ]
           ],
           "sequentialminus": [
            [
             0,
             "#0d0887"
            ],
            [
             0.1111111111111111,
             "#46039f"
            ],
            [
             0.2222222222222222,
             "#7201a8"
            ],
            [
             0.3333333333333333,
             "#9c179e"
            ],
            [
             0.4444444444444444,
             "#bd3786"
            ],
            [
             0.5555555555555556,
             "#d8576b"
            ],
            [
             0.6666666666666666,
             "#ed7953"
            ],
            [
             0.7777777777777778,
             "#fb9f3a"
            ],
            [
             0.8888888888888888,
             "#fdca26"
            ],
            [
             1,
             "#f0f921"
            ]
           ]
          },
          "colorway": [
           "#636efa",
           "#EF553B",
           "#00cc96",
           "#ab63fa",
           "#FFA15A",
           "#19d3f3",
           "#FF6692",
           "#B6E880",
           "#FF97FF",
           "#FECB52"
          ],
          "font": {
           "color": "#2a3f5f"
          },
          "geo": {
           "bgcolor": "white",
           "lakecolor": "white",
           "landcolor": "#E5ECF6",
           "showlakes": true,
           "showland": true,
           "subunitcolor": "white"
          },
          "hoverlabel": {
           "align": "left"
          },
          "hovermode": "closest",
          "mapbox": {
           "style": "light"
          },
          "paper_bgcolor": "white",
          "plot_bgcolor": "#E5ECF6",
          "polar": {
           "angularaxis": {
            "gridcolor": "white",
            "linecolor": "white",
            "ticks": ""
           },
           "bgcolor": "#E5ECF6",
           "radialaxis": {
            "gridcolor": "white",
            "linecolor": "white",
            "ticks": ""
           }
          },
          "scene": {
           "xaxis": {
            "backgroundcolor": "#E5ECF6",
            "gridcolor": "white",
            "gridwidth": 2,
            "linecolor": "white",
            "showbackground": true,
            "ticks": "",
            "zerolinecolor": "white"
           },
           "yaxis": {
            "backgroundcolor": "#E5ECF6",
            "gridcolor": "white",
            "gridwidth": 2,
            "linecolor": "white",
            "showbackground": true,
            "ticks": "",
            "zerolinecolor": "white"
           },
           "zaxis": {
            "backgroundcolor": "#E5ECF6",
            "gridcolor": "white",
            "gridwidth": 2,
            "linecolor": "white",
            "showbackground": true,
            "ticks": "",
            "zerolinecolor": "white"
           }
          },
          "shapedefaults": {
           "line": {
            "color": "#2a3f5f"
           }
          },
          "ternary": {
           "aaxis": {
            "gridcolor": "white",
            "linecolor": "white",
            "ticks": ""
           },
           "baxis": {
            "gridcolor": "white",
            "linecolor": "white",
            "ticks": ""
           },
           "bgcolor": "#E5ECF6",
           "caxis": {
            "gridcolor": "white",
            "linecolor": "white",
            "ticks": ""
           }
          },
          "title": {
           "x": 0.05
          },
          "xaxis": {
           "automargin": true,
           "gridcolor": "white",
           "linecolor": "white",
           "ticks": "",
           "title": {
            "standoff": 15
           },
           "zerolinecolor": "white",
           "zerolinewidth": 2
          },
          "yaxis": {
           "automargin": true,
           "gridcolor": "white",
           "linecolor": "white",
           "ticks": "",
           "title": {
            "standoff": 15
           },
           "zerolinecolor": "white",
           "zerolinewidth": 2
          }
         }
        },
        "title": {
         "text": "Coin Flipping Simulation (Percentage)"
        },
        "xaxis": {
         "title": {
          "text": "Number of Heads"
         }
        },
        "yaxis": {
         "title": {
          "text": "Percentage"
         }
        }
       }
      }
     },
     "metadata": {},
     "output_type": "display_data"
    }
   ],
   "source": [
    "# Plotting the results using Plotly for the Coin Flips with theoretical PMF\n",
    "fig = go.Figure()\n",
    "fig.add_trace(go.Histogram(\n",
    "    x=coin_flips,\n",
    "    nbinsx=11,\n",
    "    name='Experimental',\n",
    "    marker_color='blue',\n",
    "    histnorm='percent'\n",
    "))\n",
    "fig.add_trace(go.Scatter(\n",
    "    x=k_values_coin,\n",
    "    y=theoretical_pmf_coin,\n",
    "    mode='markers+lines',\n",
    "    name='Theoretical',\n",
    "    marker_color='red'\n",
    "))\n",
    "fig.update_layout(\n",
    "    title=\"Coin Flipping Simulation (Percentage)\",\n",
    "    xaxis_title=\"Number of Heads\",\n",
    "    yaxis_title=\"Percentage\",\n",
    "    bargap=0.1\n",
    ")\n",
    "fig.show()"
   ]
  },
  {
   "cell_type": "code",
   "execution_count": 72,
   "metadata": {},
   "outputs": [],
   "source": [
    "theoretical_pmf_coin_count = theoretical_pmf_coin / 100 * n_simulations"
   ]
  },
  {
   "cell_type": "code",
   "execution_count": 73,
   "metadata": {},
   "outputs": [
    {
     "data": {
      "application/vnd.plotly.v1+json": {
       "config": {
        "plotlyServerURL": "https://plot.ly"
       },
       "data": [
        {
         "marker": {
          "color": "blue"
         },
         "name": "Experimental",
         "nbinsx": 11,
         "type": "histogram",
         "x": [
          6,
          7,
          5,
          6,
          6,
          5,
          5,
          7,
          2,
          6,
          8,
          7,
          3,
          4,
          7,
          3,
          5,
          5,
          7,
          2,
          5,
          6,
          5,
          6,
          6,
          2,
          5,
          5,
          3,
          7,
          4,
          3,
          8,
          6,
          6,
          8,
          2,
          5,
          6,
          3,
          6,
          5,
          4,
          5,
          3,
          3,
          7,
          5,
          5,
          5,
          3,
          2,
          6,
          5,
          5,
          7,
          5,
          8,
          4,
          8,
          4,
          5,
          7,
          3,
          5,
          6,
          3,
          6,
          5,
          6,
          5,
          2,
          4,
          5,
          2,
          8,
          5,
          7,
          5,
          2,
          5,
          5,
          5,
          6,
          1,
          4,
          5,
          5,
          6,
          3,
          3,
          6,
          6,
          7,
          6,
          5,
          5,
          4,
          4,
          8,
          5,
          4,
          7,
          5,
          1,
          6,
          1,
          5,
          4,
          4,
          8,
          6,
          4,
          4,
          6,
          3,
          3,
          6,
          3,
          6,
          9,
          3,
          6,
          4,
          4,
          4,
          5,
          2,
          5,
          3,
          5,
          4,
          4,
          6,
          8,
          3,
          5,
          4,
          5,
          6,
          7,
          4,
          7,
          4,
          4,
          6,
          6,
          6,
          5,
          5,
          7,
          3,
          6,
          6,
          5,
          5,
          4,
          3,
          3,
          3,
          5,
          4,
          4,
          5,
          2,
          6,
          7,
          6,
          5,
          5,
          5,
          6,
          6,
          5,
          6,
          1,
          5,
          3,
          6,
          6,
          5,
          2,
          4,
          5,
          4,
          4,
          2,
          5,
          4,
          8,
          6,
          7,
          6,
          8,
          5,
          2,
          5,
          9,
          3,
          5,
          9,
          6,
          5,
          6,
          4,
          4,
          5,
          4,
          6,
          6,
          5,
          6,
          5,
          6,
          4,
          5,
          7,
          5,
          6,
          6,
          3,
          5,
          6,
          4,
          8,
          4,
          5,
          5,
          4,
          4,
          7,
          5,
          5,
          6,
          5,
          6,
          6,
          5,
          6,
          9,
          6,
          4,
          7,
          4,
          5,
          7,
          5,
          8,
          5,
          8,
          4,
          5,
          7,
          6,
          4,
          7,
          4,
          7,
          3,
          6,
          7,
          5,
          7,
          7,
          3,
          5,
          1,
          3,
          3,
          6,
          6,
          7,
          5,
          6,
          3,
          3,
          4,
          3,
          5,
          5,
          5,
          7,
          3,
          4,
          5,
          7,
          7,
          4,
          5,
          6,
          5,
          7,
          5,
          2,
          2,
          3,
          5,
          4,
          8,
          5,
          6,
          4,
          5,
          6,
          6,
          6,
          5,
          3,
          3,
          5,
          7,
          3,
          4,
          7,
          5,
          5,
          3,
          6,
          4,
          4,
          5,
          7,
          6,
          3,
          7,
          6,
          5,
          7,
          5,
          8,
          3,
          4,
          4,
          6,
          2,
          9,
          4,
          6,
          5,
          4,
          3,
          6,
          6,
          5,
          8,
          7,
          7,
          6,
          7,
          4,
          6,
          5,
          5,
          5,
          3,
          6,
          4,
          3,
          4,
          1,
          2,
          5,
          5,
          3,
          3,
          6,
          5,
          4,
          3,
          3,
          8,
          3,
          3,
          7,
          6,
          6,
          7,
          3,
          4,
          5,
          4,
          4,
          6,
          7,
          7,
          7,
          5,
          5,
          6,
          6,
          6,
          4,
          8,
          4,
          5,
          4,
          4,
          6,
          4,
          5,
          5,
          3,
          5,
          5,
          6,
          4,
          3,
          6,
          3,
          7,
          8,
          4,
          4,
          4,
          7,
          6,
          5,
          5,
          6,
          6,
          2,
          4,
          7,
          1,
          4,
          5,
          4,
          2,
          6,
          7,
          7,
          4,
          5,
          6,
          4,
          4,
          6,
          4,
          6,
          4,
          7,
          8,
          6,
          2,
          6,
          5,
          7,
          5,
          10,
          6,
          5,
          5,
          7,
          7,
          7,
          8,
          2,
          4,
          6,
          6,
          4,
          3,
          5,
          6,
          5,
          4,
          5,
          6,
          5,
          7,
          3,
          7,
          5,
          8,
          3,
          7,
          6,
          5,
          7,
          7,
          5,
          7,
          4,
          7,
          7,
          8,
          4,
          5,
          4,
          7,
          4,
          4,
          7,
          4,
          5,
          5,
          2,
          7,
          5,
          3,
          8,
          4,
          5,
          5,
          4,
          7,
          6,
          4,
          5,
          8,
          2,
          3,
          1,
          2,
          6,
          4,
          4,
          5,
          6,
          6,
          5,
          6,
          4,
          6,
          4,
          4,
          6,
          8,
          3,
          4,
          6,
          6,
          4,
          5,
          7,
          7,
          6,
          7,
          4,
          5,
          5,
          4,
          6,
          6,
          7,
          4,
          7,
          3,
          4,
          2,
          5,
          7,
          7,
          5,
          7,
          6,
          2,
          5,
          6,
          9,
          4,
          7,
          4,
          5,
          6,
          4,
          3,
          3,
          2,
          5,
          5,
          5,
          4,
          5,
          5,
          3,
          6,
          6,
          5,
          5,
          6,
          5,
          6,
          7,
          6,
          5,
          5,
          6,
          4,
          5,
          7,
          7,
          3,
          6,
          5,
          2,
          5,
          7,
          6,
          7,
          7,
          2,
          4,
          6,
          6,
          6,
          5,
          4,
          6,
          8,
          6,
          3,
          6,
          6,
          6,
          5,
          4,
          4,
          7,
          4,
          3,
          7,
          5,
          2,
          2,
          7,
          5,
          7,
          5,
          4,
          5,
          3,
          4,
          5,
          4,
          2,
          3,
          4,
          5,
          4,
          6,
          6,
          4,
          6,
          4,
          6,
          2,
          6,
          4,
          6,
          4,
          6,
          4,
          7,
          6,
          6,
          8,
          7,
          4,
          6,
          7,
          6,
          7,
          4,
          3,
          4,
          6,
          2,
          5,
          5,
          4,
          3,
          5,
          6,
          6,
          5,
          4,
          5,
          3,
          7,
          5,
          5,
          8,
          3,
          6,
          3,
          4,
          5,
          7,
          4,
          6,
          6,
          3,
          8,
          6,
          5,
          8,
          3,
          6,
          3,
          7,
          8,
          7,
          5,
          5,
          6,
          6,
          4,
          5,
          8,
          6,
          3,
          5,
          6,
          1,
          6,
          5,
          5,
          8,
          4,
          5,
          5,
          7,
          6,
          6,
          4,
          5,
          4,
          4,
          4,
          3,
          4,
          6,
          4,
          4,
          6,
          3,
          5,
          5,
          4,
          6,
          4,
          4,
          6,
          9,
          2,
          6,
          8,
          4,
          4,
          3,
          3,
          5,
          5,
          5,
          6,
          6,
          5,
          4,
          5,
          5,
          4,
          7,
          4,
          3,
          5,
          7,
          6,
          4,
          3,
          5,
          4,
          5,
          4,
          6,
          3,
          3,
          4,
          4,
          4,
          3,
          5,
          4,
          4,
          5,
          6,
          6,
          6,
          4,
          5,
          7,
          4,
          7,
          3,
          3,
          8,
          7,
          6,
          3,
          3,
          5,
          7,
          6,
          6,
          7,
          2,
          1,
          4,
          2,
          4,
          7,
          3,
          6,
          7,
          6,
          5,
          4,
          6,
          5,
          4,
          6,
          5,
          6,
          7,
          5,
          6,
          3,
          1,
          4,
          4,
          5,
          5,
          8,
          6,
          5,
          2,
          6,
          5,
          6,
          3,
          7,
          4,
          4,
          7,
          6,
          5,
          6,
          4,
          5,
          6,
          3,
          3,
          4,
          1,
          2,
          6,
          6,
          5,
          5,
          5,
          5,
          7,
          7,
          6,
          1,
          7,
          4,
          4,
          6,
          5,
          7,
          8,
          5,
          6,
          2,
          5,
          6,
          2,
          4,
          6,
          3,
          2,
          4,
          4,
          7,
          3,
          3,
          6,
          4,
          5,
          6,
          4,
          2,
          7,
          1,
          7,
          7,
          6,
          5,
          5,
          4,
          7,
          5,
          4,
          7,
          6,
          4,
          3,
          6,
          6,
          6,
          7,
          5,
          6,
          3,
          4,
          4,
          7,
          6,
          4,
          5,
          7,
          3,
          6,
          8,
          8,
          6,
          6,
          4,
          6,
          6,
          5,
          5,
          6,
          6,
          3,
          5,
          7,
          7,
          6,
          5,
          5,
          4,
          5,
          3,
          3,
          5,
          6,
          2,
          5,
          5,
          4,
          8,
          3,
          4,
          6,
          6,
          6,
          5,
          2,
          5,
          4,
          3,
          3,
          6,
          7,
          5,
          7,
          4,
          4,
          5,
          5,
          6,
          5,
          6,
          4,
          3,
          3,
          6,
          4,
          6,
          7,
          7,
          6,
          6,
          4,
          6,
          4,
          5,
          3,
          6,
          6,
          5,
          4,
          4,
          4,
          6,
          6,
          2,
          7
         ]
        },
        {
         "marker": {
          "color": "red"
         },
         "mode": "markers+lines",
         "name": "Theoretical",
         "type": "scatter",
         "x": [
          0,
          1,
          2,
          3,
          4,
          5,
          6,
          7,
          8,
          9,
          10
         ],
         "y": [
          0.976562499999999,
          9.765625000000004,
          43.94531250000004,
          117.18749999999999,
          205.0781249999999,
          246.09375,
          205.0781249999999,
          117.18749999999996,
          43.94531250000004,
          9.765625000000004,
          0.9765625
         ]
        }
       ],
       "layout": {
        "bargap": 0.1,
        "template": {
         "data": {
          "bar": [
           {
            "error_x": {
             "color": "#2a3f5f"
            },
            "error_y": {
             "color": "#2a3f5f"
            },
            "marker": {
             "line": {
              "color": "#E5ECF6",
              "width": 0.5
             },
             "pattern": {
              "fillmode": "overlay",
              "size": 10,
              "solidity": 0.2
             }
            },
            "type": "bar"
           }
          ],
          "barpolar": [
           {
            "marker": {
             "line": {
              "color": "#E5ECF6",
              "width": 0.5
             },
             "pattern": {
              "fillmode": "overlay",
              "size": 10,
              "solidity": 0.2
             }
            },
            "type": "barpolar"
           }
          ],
          "carpet": [
           {
            "aaxis": {
             "endlinecolor": "#2a3f5f",
             "gridcolor": "white",
             "linecolor": "white",
             "minorgridcolor": "white",
             "startlinecolor": "#2a3f5f"
            },
            "baxis": {
             "endlinecolor": "#2a3f5f",
             "gridcolor": "white",
             "linecolor": "white",
             "minorgridcolor": "white",
             "startlinecolor": "#2a3f5f"
            },
            "type": "carpet"
           }
          ],
          "choropleth": [
           {
            "colorbar": {
             "outlinewidth": 0,
             "ticks": ""
            },
            "type": "choropleth"
           }
          ],
          "contour": [
           {
            "colorbar": {
             "outlinewidth": 0,
             "ticks": ""
            },
            "colorscale": [
             [
              0,
              "#0d0887"
             ],
             [
              0.1111111111111111,
              "#46039f"
             ],
             [
              0.2222222222222222,
              "#7201a8"
             ],
             [
              0.3333333333333333,
              "#9c179e"
             ],
             [
              0.4444444444444444,
              "#bd3786"
             ],
             [
              0.5555555555555556,
              "#d8576b"
             ],
             [
              0.6666666666666666,
              "#ed7953"
             ],
             [
              0.7777777777777778,
              "#fb9f3a"
             ],
             [
              0.8888888888888888,
              "#fdca26"
             ],
             [
              1,
              "#f0f921"
             ]
            ],
            "type": "contour"
           }
          ],
          "contourcarpet": [
           {
            "colorbar": {
             "outlinewidth": 0,
             "ticks": ""
            },
            "type": "contourcarpet"
           }
          ],
          "heatmap": [
           {
            "colorbar": {
             "outlinewidth": 0,
             "ticks": ""
            },
            "colorscale": [
             [
              0,
              "#0d0887"
             ],
             [
              0.1111111111111111,
              "#46039f"
             ],
             [
              0.2222222222222222,
              "#7201a8"
             ],
             [
              0.3333333333333333,
              "#9c179e"
             ],
             [
              0.4444444444444444,
              "#bd3786"
             ],
             [
              0.5555555555555556,
              "#d8576b"
             ],
             [
              0.6666666666666666,
              "#ed7953"
             ],
             [
              0.7777777777777778,
              "#fb9f3a"
             ],
             [
              0.8888888888888888,
              "#fdca26"
             ],
             [
              1,
              "#f0f921"
             ]
            ],
            "type": "heatmap"
           }
          ],
          "heatmapgl": [
           {
            "colorbar": {
             "outlinewidth": 0,
             "ticks": ""
            },
            "colorscale": [
             [
              0,
              "#0d0887"
             ],
             [
              0.1111111111111111,
              "#46039f"
             ],
             [
              0.2222222222222222,
              "#7201a8"
             ],
             [
              0.3333333333333333,
              "#9c179e"
             ],
             [
              0.4444444444444444,
              "#bd3786"
             ],
             [
              0.5555555555555556,
              "#d8576b"
             ],
             [
              0.6666666666666666,
              "#ed7953"
             ],
             [
              0.7777777777777778,
              "#fb9f3a"
             ],
             [
              0.8888888888888888,
              "#fdca26"
             ],
             [
              1,
              "#f0f921"
             ]
            ],
            "type": "heatmapgl"
           }
          ],
          "histogram": [
           {
            "marker": {
             "pattern": {
              "fillmode": "overlay",
              "size": 10,
              "solidity": 0.2
             }
            },
            "type": "histogram"
           }
          ],
          "histogram2d": [
           {
            "colorbar": {
             "outlinewidth": 0,
             "ticks": ""
            },
            "colorscale": [
             [
              0,
              "#0d0887"
             ],
             [
              0.1111111111111111,
              "#46039f"
             ],
             [
              0.2222222222222222,
              "#7201a8"
             ],
             [
              0.3333333333333333,
              "#9c179e"
             ],
             [
              0.4444444444444444,
              "#bd3786"
             ],
             [
              0.5555555555555556,
              "#d8576b"
             ],
             [
              0.6666666666666666,
              "#ed7953"
             ],
             [
              0.7777777777777778,
              "#fb9f3a"
             ],
             [
              0.8888888888888888,
              "#fdca26"
             ],
             [
              1,
              "#f0f921"
             ]
            ],
            "type": "histogram2d"
           }
          ],
          "histogram2dcontour": [
           {
            "colorbar": {
             "outlinewidth": 0,
             "ticks": ""
            },
            "colorscale": [
             [
              0,
              "#0d0887"
             ],
             [
              0.1111111111111111,
              "#46039f"
             ],
             [
              0.2222222222222222,
              "#7201a8"
             ],
             [
              0.3333333333333333,
              "#9c179e"
             ],
             [
              0.4444444444444444,
              "#bd3786"
             ],
             [
              0.5555555555555556,
              "#d8576b"
             ],
             [
              0.6666666666666666,
              "#ed7953"
             ],
             [
              0.7777777777777778,
              "#fb9f3a"
             ],
             [
              0.8888888888888888,
              "#fdca26"
             ],
             [
              1,
              "#f0f921"
             ]
            ],
            "type": "histogram2dcontour"
           }
          ],
          "mesh3d": [
           {
            "colorbar": {
             "outlinewidth": 0,
             "ticks": ""
            },
            "type": "mesh3d"
           }
          ],
          "parcoords": [
           {
            "line": {
             "colorbar": {
              "outlinewidth": 0,
              "ticks": ""
             }
            },
            "type": "parcoords"
           }
          ],
          "pie": [
           {
            "automargin": true,
            "type": "pie"
           }
          ],
          "scatter": [
           {
            "fillpattern": {
             "fillmode": "overlay",
             "size": 10,
             "solidity": 0.2
            },
            "type": "scatter"
           }
          ],
          "scatter3d": [
           {
            "line": {
             "colorbar": {
              "outlinewidth": 0,
              "ticks": ""
             }
            },
            "marker": {
             "colorbar": {
              "outlinewidth": 0,
              "ticks": ""
             }
            },
            "type": "scatter3d"
           }
          ],
          "scattercarpet": [
           {
            "marker": {
             "colorbar": {
              "outlinewidth": 0,
              "ticks": ""
             }
            },
            "type": "scattercarpet"
           }
          ],
          "scattergeo": [
           {
            "marker": {
             "colorbar": {
              "outlinewidth": 0,
              "ticks": ""
             }
            },
            "type": "scattergeo"
           }
          ],
          "scattergl": [
           {
            "marker": {
             "colorbar": {
              "outlinewidth": 0,
              "ticks": ""
             }
            },
            "type": "scattergl"
           }
          ],
          "scattermapbox": [
           {
            "marker": {
             "colorbar": {
              "outlinewidth": 0,
              "ticks": ""
             }
            },
            "type": "scattermapbox"
           }
          ],
          "scatterpolar": [
           {
            "marker": {
             "colorbar": {
              "outlinewidth": 0,
              "ticks": ""
             }
            },
            "type": "scatterpolar"
           }
          ],
          "scatterpolargl": [
           {
            "marker": {
             "colorbar": {
              "outlinewidth": 0,
              "ticks": ""
             }
            },
            "type": "scatterpolargl"
           }
          ],
          "scatterternary": [
           {
            "marker": {
             "colorbar": {
              "outlinewidth": 0,
              "ticks": ""
             }
            },
            "type": "scatterternary"
           }
          ],
          "surface": [
           {
            "colorbar": {
             "outlinewidth": 0,
             "ticks": ""
            },
            "colorscale": [
             [
              0,
              "#0d0887"
             ],
             [
              0.1111111111111111,
              "#46039f"
             ],
             [
              0.2222222222222222,
              "#7201a8"
             ],
             [
              0.3333333333333333,
              "#9c179e"
             ],
             [
              0.4444444444444444,
              "#bd3786"
             ],
             [
              0.5555555555555556,
              "#d8576b"
             ],
             [
              0.6666666666666666,
              "#ed7953"
             ],
             [
              0.7777777777777778,
              "#fb9f3a"
             ],
             [
              0.8888888888888888,
              "#fdca26"
             ],
             [
              1,
              "#f0f921"
             ]
            ],
            "type": "surface"
           }
          ],
          "table": [
           {
            "cells": {
             "fill": {
              "color": "#EBF0F8"
             },
             "line": {
              "color": "white"
             }
            },
            "header": {
             "fill": {
              "color": "#C8D4E3"
             },
             "line": {
              "color": "white"
             }
            },
            "type": "table"
           }
          ]
         },
         "layout": {
          "annotationdefaults": {
           "arrowcolor": "#2a3f5f",
           "arrowhead": 0,
           "arrowwidth": 1
          },
          "autotypenumbers": "strict",
          "coloraxis": {
           "colorbar": {
            "outlinewidth": 0,
            "ticks": ""
           }
          },
          "colorscale": {
           "diverging": [
            [
             0,
             "#8e0152"
            ],
            [
             0.1,
             "#c51b7d"
            ],
            [
             0.2,
             "#de77ae"
            ],
            [
             0.3,
             "#f1b6da"
            ],
            [
             0.4,
             "#fde0ef"
            ],
            [
             0.5,
             "#f7f7f7"
            ],
            [
             0.6,
             "#e6f5d0"
            ],
            [
             0.7,
             "#b8e186"
            ],
            [
             0.8,
             "#7fbc41"
            ],
            [
             0.9,
             "#4d9221"
            ],
            [
             1,
             "#276419"
            ]
           ],
           "sequential": [
            [
             0,
             "#0d0887"
            ],
            [
             0.1111111111111111,
             "#46039f"
            ],
            [
             0.2222222222222222,
             "#7201a8"
            ],
            [
             0.3333333333333333,
             "#9c179e"
            ],
            [
             0.4444444444444444,
             "#bd3786"
            ],
            [
             0.5555555555555556,
             "#d8576b"
            ],
            [
             0.6666666666666666,
             "#ed7953"
            ],
            [
             0.7777777777777778,
             "#fb9f3a"
            ],
            [
             0.8888888888888888,
             "#fdca26"
            ],
            [
             1,
             "#f0f921"
            ]
           ],
           "sequentialminus": [
            [
             0,
             "#0d0887"
            ],
            [
             0.1111111111111111,
             "#46039f"
            ],
            [
             0.2222222222222222,
             "#7201a8"
            ],
            [
             0.3333333333333333,
             "#9c179e"
            ],
            [
             0.4444444444444444,
             "#bd3786"
            ],
            [
             0.5555555555555556,
             "#d8576b"
            ],
            [
             0.6666666666666666,
             "#ed7953"
            ],
            [
             0.7777777777777778,
             "#fb9f3a"
            ],
            [
             0.8888888888888888,
             "#fdca26"
            ],
            [
             1,
             "#f0f921"
            ]
           ]
          },
          "colorway": [
           "#636efa",
           "#EF553B",
           "#00cc96",
           "#ab63fa",
           "#FFA15A",
           "#19d3f3",
           "#FF6692",
           "#B6E880",
           "#FF97FF",
           "#FECB52"
          ],
          "font": {
           "color": "#2a3f5f"
          },
          "geo": {
           "bgcolor": "white",
           "lakecolor": "white",
           "landcolor": "#E5ECF6",
           "showlakes": true,
           "showland": true,
           "subunitcolor": "white"
          },
          "hoverlabel": {
           "align": "left"
          },
          "hovermode": "closest",
          "mapbox": {
           "style": "light"
          },
          "paper_bgcolor": "white",
          "plot_bgcolor": "#E5ECF6",
          "polar": {
           "angularaxis": {
            "gridcolor": "white",
            "linecolor": "white",
            "ticks": ""
           },
           "bgcolor": "#E5ECF6",
           "radialaxis": {
            "gridcolor": "white",
            "linecolor": "white",
            "ticks": ""
           }
          },
          "scene": {
           "xaxis": {
            "backgroundcolor": "#E5ECF6",
            "gridcolor": "white",
            "gridwidth": 2,
            "linecolor": "white",
            "showbackground": true,
            "ticks": "",
            "zerolinecolor": "white"
           },
           "yaxis": {
            "backgroundcolor": "#E5ECF6",
            "gridcolor": "white",
            "gridwidth": 2,
            "linecolor": "white",
            "showbackground": true,
            "ticks": "",
            "zerolinecolor": "white"
           },
           "zaxis": {
            "backgroundcolor": "#E5ECF6",
            "gridcolor": "white",
            "gridwidth": 2,
            "linecolor": "white",
            "showbackground": true,
            "ticks": "",
            "zerolinecolor": "white"
           }
          },
          "shapedefaults": {
           "line": {
            "color": "#2a3f5f"
           }
          },
          "ternary": {
           "aaxis": {
            "gridcolor": "white",
            "linecolor": "white",
            "ticks": ""
           },
           "baxis": {
            "gridcolor": "white",
            "linecolor": "white",
            "ticks": ""
           },
           "bgcolor": "#E5ECF6",
           "caxis": {
            "gridcolor": "white",
            "linecolor": "white",
            "ticks": ""
           }
          },
          "title": {
           "x": 0.05
          },
          "xaxis": {
           "automargin": true,
           "gridcolor": "white",
           "linecolor": "white",
           "ticks": "",
           "title": {
            "standoff": 15
           },
           "zerolinecolor": "white",
           "zerolinewidth": 2
          },
          "yaxis": {
           "automargin": true,
           "gridcolor": "white",
           "linecolor": "white",
           "ticks": "",
           "title": {
            "standoff": 15
           },
           "zerolinecolor": "white",
           "zerolinewidth": 2
          }
         }
        },
        "title": {
         "text": "Coin Flipping Simulation (Counts)"
        },
        "xaxis": {
         "title": {
          "text": "Number of Heads"
         }
        },
        "yaxis": {
         "title": {
          "text": "Count"
         }
        }
       }
      }
     },
     "metadata": {},
     "output_type": "display_data"
    }
   ],
   "source": [
    "# Plotting the results using Plotly for the Coin Flips with theoretical PMF\n",
    "fig = go.Figure()\n",
    "fig.add_trace(go.Histogram(\n",
    "    x=coin_flips,\n",
    "    nbinsx=11,\n",
    "    name='Experimental',\n",
    "    marker_color='blue'\n",
    "))\n",
    "fig.add_trace(go.Scatter(\n",
    "    x=k_values_coin,\n",
    "    y=theoretical_pmf_coin_count,\n",
    "    mode='markers+lines',\n",
    "    name='Theoretical',\n",
    "    marker_color='red'\n",
    "))\n",
    "fig.update_layout(\n",
    "    title=\"Coin Flipping Simulation (Counts)\",\n",
    "    xaxis_title=\"Number of Heads\",\n",
    "    yaxis_title=\"Count\",\n",
    "    bargap=0.1\n",
    ")\n",
    "fig.show()"
   ]
  },
  {
   "cell_type": "code",
   "execution_count": 74,
   "metadata": {},
   "outputs": [],
   "source": [
    "# Example 2: Quality Control in Manufacturing\n",
    "n_items = 1000\n",
    "p_defective = 0.01\n",
    "n_simulations_qc = 1000\n",
    "# Using scipy for generating binomial distributed random variables\n",
    "defects = binom.rvs(n_items, p_defective, size=n_simulations_qc)"
   ]
  },
  {
   "cell_type": "code",
   "execution_count": 75,
   "metadata": {},
   "outputs": [],
   "source": [
    "# Theoretical values for quality control\n",
    "k_values_defects = np.arange(0, 50)  # Reasonable range of defective items to show\n",
    "theoretical_pmf_defects = binom.pmf(k_values_defects, n_items, p_defective) * 100  # Convert to percentage\n"
   ]
  },
  {
   "cell_type": "code",
   "execution_count": 91,
   "metadata": {},
   "outputs": [
    {
     "data": {
      "text/plain": [
       "10.0"
      ]
     },
     "execution_count": 91,
     "metadata": {},
     "output_type": "execute_result"
    }
   ],
   "source": [
    "binom.mean(n_items, p_defective)"
   ]
  },
  {
   "cell_type": "code",
   "execution_count": 92,
   "metadata": {},
   "outputs": [
    {
     "data": {
      "text/plain": [
       "9.9"
      ]
     },
     "execution_count": 92,
     "metadata": {},
     "output_type": "execute_result"
    }
   ],
   "source": [
    "binom.var(n_items, p_defective)"
   ]
  },
  {
   "cell_type": "code",
   "execution_count": 76,
   "metadata": {},
   "outputs": [
    {
     "data": {
      "application/vnd.plotly.v1+json": {
       "config": {
        "plotlyServerURL": "https://plot.ly"
       },
       "data": [
        {
         "histnorm": "percent",
         "marker": {
          "color": "blue"
         },
         "name": "Experimental",
         "nbinsx": 50,
         "type": "histogram",
         "x": [
          9,
          7,
          12,
          6,
          9,
          6,
          12,
          11,
          6,
          10,
          10,
          12,
          12,
          11,
          11,
          10,
          10,
          14,
          12,
          5,
          8,
          11,
          10,
          8,
          6,
          14,
          12,
          9,
          15,
          9,
          7,
          14,
          9,
          10,
          13,
          12,
          9,
          7,
          9,
          16,
          11,
          10,
          6,
          7,
          16,
          4,
          11,
          11,
          13,
          11,
          7,
          9,
          12,
          7,
          11,
          11,
          9,
          5,
          13,
          11,
          7,
          12,
          11,
          12,
          12,
          10,
          14,
          12,
          11,
          7,
          5,
          18,
          6,
          8,
          9,
          13,
          8,
          8,
          12,
          13,
          10,
          6,
          6,
          8,
          5,
          7,
          8,
          11,
          9,
          9,
          7,
          11,
          9,
          10,
          9,
          12,
          7,
          13,
          12,
          13,
          13,
          9,
          10,
          6,
          10,
          10,
          8,
          7,
          10,
          12,
          9,
          11,
          16,
          15,
          13,
          11,
          7,
          9,
          6,
          12,
          7,
          9,
          8,
          8,
          8,
          6,
          7,
          15,
          11,
          8,
          9,
          10,
          12,
          8,
          10,
          4,
          9,
          13,
          13,
          7,
          2,
          9,
          13,
          5,
          10,
          10,
          8,
          7,
          17,
          10,
          5,
          11,
          11,
          7,
          15,
          8,
          11,
          13,
          9,
          10,
          7,
          9,
          14,
          9,
          12,
          9,
          7,
          15,
          10,
          11,
          9,
          4,
          17,
          12,
          13,
          10,
          11,
          11,
          7,
          10,
          16,
          8,
          8,
          15,
          13,
          12,
          13,
          13,
          13,
          15,
          13,
          5,
          8,
          12,
          11,
          6,
          7,
          6,
          13,
          11,
          16,
          10,
          10,
          17,
          11,
          10,
          8,
          8,
          7,
          9,
          7,
          13,
          10,
          13,
          20,
          8,
          11,
          11,
          10,
          7,
          4,
          11,
          9,
          10,
          11,
          11,
          7,
          11,
          10,
          3,
          13,
          10,
          12,
          9,
          7,
          12,
          10,
          8,
          6,
          15,
          8,
          5,
          7,
          9,
          7,
          14,
          11,
          10,
          10,
          8,
          7,
          14,
          12,
          9,
          6,
          15,
          8,
          6,
          14,
          9,
          10,
          12,
          11,
          13,
          19,
          10,
          9,
          4,
          6,
          19,
          12,
          7,
          5,
          3,
          12,
          10,
          12,
          9,
          11,
          5,
          13,
          9,
          5,
          10,
          12,
          11,
          11,
          8,
          6,
          9,
          7,
          10,
          9,
          9,
          13,
          15,
          10,
          9,
          12,
          10,
          10,
          8,
          8,
          17,
          13,
          11,
          5,
          13,
          13,
          11,
          9,
          11,
          10,
          13,
          12,
          7,
          13,
          9,
          11,
          10,
          16,
          6,
          14,
          7,
          16,
          10,
          8,
          4,
          14,
          8,
          12,
          12,
          13,
          15,
          13,
          10,
          11,
          8,
          5,
          7,
          10,
          6,
          11,
          6,
          14,
          8,
          7,
          11,
          5,
          12,
          9,
          10,
          11,
          12,
          12,
          9,
          9,
          13,
          10,
          9,
          6,
          6,
          11,
          12,
          5,
          9,
          10,
          8,
          14,
          8,
          9,
          15,
          11,
          11,
          8,
          11,
          10,
          11,
          8,
          17,
          12,
          17,
          6,
          8,
          8,
          11,
          10,
          10,
          10,
          5,
          14,
          11,
          11,
          15,
          9,
          10,
          7,
          14,
          8,
          9,
          6,
          14,
          12,
          9,
          8,
          11,
          8,
          7,
          15,
          13,
          8,
          17,
          11,
          8,
          9,
          17,
          5,
          14,
          8,
          9,
          9,
          3,
          7,
          8,
          9,
          13,
          7,
          8,
          11,
          13,
          18,
          11,
          6,
          7,
          7,
          9,
          16,
          10,
          8,
          12,
          6,
          11,
          6,
          14,
          14,
          12,
          5,
          16,
          16,
          9,
          12,
          7,
          9,
          14,
          5,
          8,
          6,
          13,
          9,
          9,
          10,
          8,
          7,
          10,
          4,
          7,
          10,
          9,
          10,
          15,
          10,
          10,
          12,
          7,
          10,
          5,
          7,
          7,
          13,
          7,
          8,
          9,
          10,
          9,
          13,
          11,
          7,
          14,
          14,
          9,
          11,
          12,
          12,
          13,
          6,
          12,
          7,
          8,
          5,
          10,
          8,
          8,
          13,
          15,
          11,
          12,
          11,
          8,
          8,
          13,
          10,
          9,
          13,
          10,
          9,
          8,
          4,
          7,
          13,
          13,
          10,
          10,
          14,
          11,
          12,
          5,
          9,
          11,
          7,
          13,
          6,
          10,
          6,
          13,
          11,
          9,
          15,
          5,
          11,
          7,
          10,
          7,
          16,
          14,
          12,
          10,
          9,
          13,
          14,
          6,
          11,
          5,
          11,
          11,
          12,
          12,
          14,
          9,
          10,
          16,
          16,
          8,
          9,
          10,
          7,
          10,
          12,
          12,
          8,
          13,
          9,
          8,
          9,
          8,
          16,
          11,
          13,
          13,
          10,
          10,
          6,
          12,
          6,
          8,
          6,
          6,
          10,
          12,
          7,
          13,
          9,
          8,
          12,
          10,
          16,
          10,
          10,
          9,
          15,
          18,
          5,
          18,
          10,
          19,
          10,
          7,
          13,
          12,
          9,
          10,
          8,
          10,
          4,
          14,
          8,
          10,
          11,
          6,
          9,
          18,
          10,
          13,
          3,
          7,
          10,
          8,
          11,
          12,
          5,
          15,
          14,
          8,
          5,
          7,
          14,
          5,
          13,
          9,
          7,
          12,
          13,
          13,
          6,
          11,
          10,
          12,
          7,
          12,
          9,
          10,
          7,
          12,
          13,
          10,
          12,
          15,
          14,
          6,
          9,
          10,
          10,
          9,
          5,
          16,
          7,
          6,
          11,
          16,
          10,
          10,
          12,
          7,
          12,
          13,
          13,
          9,
          11,
          14,
          13,
          8,
          7,
          9,
          7,
          9,
          9,
          5,
          11,
          10,
          12,
          10,
          9,
          6,
          10,
          12,
          9,
          9,
          10,
          9,
          11,
          13,
          15,
          10,
          9,
          14,
          12,
          4,
          13,
          11,
          12,
          14,
          6,
          5,
          14,
          10,
          9,
          13,
          6,
          8,
          13,
          8,
          11,
          6,
          11,
          9,
          4,
          13,
          15,
          15,
          12,
          13,
          9,
          12,
          10,
          7,
          12,
          8,
          9,
          7,
          6,
          15,
          8,
          9,
          13,
          14,
          8,
          16,
          9,
          9,
          8,
          8,
          15,
          8,
          5,
          6,
          10,
          9,
          11,
          3,
          14,
          13,
          9,
          6,
          15,
          16,
          12,
          8,
          9,
          13,
          16,
          10,
          9,
          10,
          13,
          11,
          7,
          9,
          12,
          13,
          5,
          15,
          7,
          13,
          11,
          4,
          8,
          9,
          9,
          9,
          16,
          6,
          10,
          6,
          7,
          14,
          10,
          10,
          4,
          7,
          13,
          13,
          9,
          12,
          4,
          7,
          12,
          9,
          10,
          9,
          7,
          12,
          10,
          8,
          5,
          11,
          10,
          9,
          13,
          5,
          6,
          9,
          8,
          9,
          8,
          7,
          11,
          9,
          17,
          6,
          12,
          9,
          11,
          13,
          11,
          5,
          8,
          6,
          10,
          8,
          8,
          9,
          14,
          6,
          6,
          11,
          11,
          12,
          5,
          8,
          19,
          10,
          9,
          9,
          15,
          13,
          13,
          9,
          14,
          8,
          20,
          13,
          10,
          8,
          13,
          9,
          6,
          14,
          15,
          7,
          12,
          9,
          7,
          9,
          7,
          9,
          15,
          4,
          9,
          8,
          7,
          11,
          10,
          15,
          8,
          5,
          10,
          8,
          11,
          10,
          10,
          7,
          11,
          12,
          15,
          11,
          6,
          10,
          13,
          15,
          5,
          3,
          11,
          12,
          4,
          12,
          5,
          6,
          7,
          12,
          10,
          11,
          10,
          7,
          10,
          17,
          8,
          9,
          13,
          8,
          9,
          10,
          4,
          11,
          10,
          14,
          15,
          7,
          3,
          6,
          12,
          7,
          12,
          11,
          13,
          9,
          11,
          12,
          16,
          7,
          8,
          9,
          9,
          10,
          13,
          8,
          10,
          11,
          14,
          10,
          8,
          13,
          12,
          10,
          12,
          12,
          7,
          9,
          11,
          10,
          9,
          8,
          8,
          7,
          10,
          11,
          11,
          22,
          8,
          8,
          18,
          13,
          9,
          11,
          14,
          11,
          13,
          11,
          6,
          15,
          15,
          10,
          13,
          14,
          17,
          8,
          6,
          12,
          11,
          16,
          12,
          8,
          4,
          11,
          10,
          6,
          5,
          13,
          6,
          13,
          6,
          11
         ]
        },
        {
         "marker": {
          "color": "red"
         },
         "mode": "markers+lines",
         "name": "Theoretical",
         "type": "scatter",
         "x": [
          0,
          1,
          2,
          3,
          4,
          5,
          6,
          7,
          8,
          9,
          10,
          11,
          12,
          13,
          14,
          15,
          16,
          17,
          18,
          19,
          20,
          21,
          22,
          23,
          24,
          25,
          26,
          27,
          28,
          29,
          30,
          31,
          32,
          33,
          34,
          35,
          36,
          37,
          38,
          39,
          40,
          41,
          42,
          43,
          44,
          45,
          46,
          47,
          48,
          49
         ],
         "y": [
          0.004317124741065821,
          0.043607320616826824,
          0.22001875402126025,
          0.7393222778222852,
          1.8613745226990344,
          3.7453111608247185,
          6.273711456263624,
          8.998656836256922,
          11.282406866670632,
          12.561332897572687,
          12.57402111262075,
          11.430928284200647,
          9.516151576662018,
          7.30532848309405,
          5.202279374324549,
          3.4541733758141473,
          2.1479550348339203,
          1.2558453679599406,
          0.6927586962427723,
          0.36166349798532904,
          0.17918782400182218,
          0.08446564094361977,
          0.03796687901001097,
          0.01630724974606528,
          0.006705464226391319,
          0.002644255791902188,
          0.0010016120423872003,
          0.0003649719900056611,
          0.00012810885507774381,
          0.00004337227695422053,
          0.000014179959906581892,
          0.00000448177292583397,
          0.0000013708453172768659,
          4.0617639030425183e-7,
          1.166882262104029e-7,
          3.253126306471811e-8,
          8.808268478522275e-9,
          2.318091950121591e-9,
          5.933871738349569e-10,
          1.4784730930567834e-10,
          3.5879107132009254e-11,
          8.485819868620138e-12,
          1.9571672087558153e-12,
          4.404430786911129e-13,
          9.67640097124419e-14,
          2.0764622510683296e-14,
          4.354460803184566e-15,
          8.927908029740278e-16,
          1.7904664041124575e-16,
          3.513758022500591e-17
         ]
        }
       ],
       "layout": {
        "bargap": 0.1,
        "template": {
         "data": {
          "bar": [
           {
            "error_x": {
             "color": "#2a3f5f"
            },
            "error_y": {
             "color": "#2a3f5f"
            },
            "marker": {
             "line": {
              "color": "#E5ECF6",
              "width": 0.5
             },
             "pattern": {
              "fillmode": "overlay",
              "size": 10,
              "solidity": 0.2
             }
            },
            "type": "bar"
           }
          ],
          "barpolar": [
           {
            "marker": {
             "line": {
              "color": "#E5ECF6",
              "width": 0.5
             },
             "pattern": {
              "fillmode": "overlay",
              "size": 10,
              "solidity": 0.2
             }
            },
            "type": "barpolar"
           }
          ],
          "carpet": [
           {
            "aaxis": {
             "endlinecolor": "#2a3f5f",
             "gridcolor": "white",
             "linecolor": "white",
             "minorgridcolor": "white",
             "startlinecolor": "#2a3f5f"
            },
            "baxis": {
             "endlinecolor": "#2a3f5f",
             "gridcolor": "white",
             "linecolor": "white",
             "minorgridcolor": "white",
             "startlinecolor": "#2a3f5f"
            },
            "type": "carpet"
           }
          ],
          "choropleth": [
           {
            "colorbar": {
             "outlinewidth": 0,
             "ticks": ""
            },
            "type": "choropleth"
           }
          ],
          "contour": [
           {
            "colorbar": {
             "outlinewidth": 0,
             "ticks": ""
            },
            "colorscale": [
             [
              0,
              "#0d0887"
             ],
             [
              0.1111111111111111,
              "#46039f"
             ],
             [
              0.2222222222222222,
              "#7201a8"
             ],
             [
              0.3333333333333333,
              "#9c179e"
             ],
             [
              0.4444444444444444,
              "#bd3786"
             ],
             [
              0.5555555555555556,
              "#d8576b"
             ],
             [
              0.6666666666666666,
              "#ed7953"
             ],
             [
              0.7777777777777778,
              "#fb9f3a"
             ],
             [
              0.8888888888888888,
              "#fdca26"
             ],
             [
              1,
              "#f0f921"
             ]
            ],
            "type": "contour"
           }
          ],
          "contourcarpet": [
           {
            "colorbar": {
             "outlinewidth": 0,
             "ticks": ""
            },
            "type": "contourcarpet"
           }
          ],
          "heatmap": [
           {
            "colorbar": {
             "outlinewidth": 0,
             "ticks": ""
            },
            "colorscale": [
             [
              0,
              "#0d0887"
             ],
             [
              0.1111111111111111,
              "#46039f"
             ],
             [
              0.2222222222222222,
              "#7201a8"
             ],
             [
              0.3333333333333333,
              "#9c179e"
             ],
             [
              0.4444444444444444,
              "#bd3786"
             ],
             [
              0.5555555555555556,
              "#d8576b"
             ],
             [
              0.6666666666666666,
              "#ed7953"
             ],
             [
              0.7777777777777778,
              "#fb9f3a"
             ],
             [
              0.8888888888888888,
              "#fdca26"
             ],
             [
              1,
              "#f0f921"
             ]
            ],
            "type": "heatmap"
           }
          ],
          "heatmapgl": [
           {
            "colorbar": {
             "outlinewidth": 0,
             "ticks": ""
            },
            "colorscale": [
             [
              0,
              "#0d0887"
             ],
             [
              0.1111111111111111,
              "#46039f"
             ],
             [
              0.2222222222222222,
              "#7201a8"
             ],
             [
              0.3333333333333333,
              "#9c179e"
             ],
             [
              0.4444444444444444,
              "#bd3786"
             ],
             [
              0.5555555555555556,
              "#d8576b"
             ],
             [
              0.6666666666666666,
              "#ed7953"
             ],
             [
              0.7777777777777778,
              "#fb9f3a"
             ],
             [
              0.8888888888888888,
              "#fdca26"
             ],
             [
              1,
              "#f0f921"
             ]
            ],
            "type": "heatmapgl"
           }
          ],
          "histogram": [
           {
            "marker": {
             "pattern": {
              "fillmode": "overlay",
              "size": 10,
              "solidity": 0.2
             }
            },
            "type": "histogram"
           }
          ],
          "histogram2d": [
           {
            "colorbar": {
             "outlinewidth": 0,
             "ticks": ""
            },
            "colorscale": [
             [
              0,
              "#0d0887"
             ],
             [
              0.1111111111111111,
              "#46039f"
             ],
             [
              0.2222222222222222,
              "#7201a8"
             ],
             [
              0.3333333333333333,
              "#9c179e"
             ],
             [
              0.4444444444444444,
              "#bd3786"
             ],
             [
              0.5555555555555556,
              "#d8576b"
             ],
             [
              0.6666666666666666,
              "#ed7953"
             ],
             [
              0.7777777777777778,
              "#fb9f3a"
             ],
             [
              0.8888888888888888,
              "#fdca26"
             ],
             [
              1,
              "#f0f921"
             ]
            ],
            "type": "histogram2d"
           }
          ],
          "histogram2dcontour": [
           {
            "colorbar": {
             "outlinewidth": 0,
             "ticks": ""
            },
            "colorscale": [
             [
              0,
              "#0d0887"
             ],
             [
              0.1111111111111111,
              "#46039f"
             ],
             [
              0.2222222222222222,
              "#7201a8"
             ],
             [
              0.3333333333333333,
              "#9c179e"
             ],
             [
              0.4444444444444444,
              "#bd3786"
             ],
             [
              0.5555555555555556,
              "#d8576b"
             ],
             [
              0.6666666666666666,
              "#ed7953"
             ],
             [
              0.7777777777777778,
              "#fb9f3a"
             ],
             [
              0.8888888888888888,
              "#fdca26"
             ],
             [
              1,
              "#f0f921"
             ]
            ],
            "type": "histogram2dcontour"
           }
          ],
          "mesh3d": [
           {
            "colorbar": {
             "outlinewidth": 0,
             "ticks": ""
            },
            "type": "mesh3d"
           }
          ],
          "parcoords": [
           {
            "line": {
             "colorbar": {
              "outlinewidth": 0,
              "ticks": ""
             }
            },
            "type": "parcoords"
           }
          ],
          "pie": [
           {
            "automargin": true,
            "type": "pie"
           }
          ],
          "scatter": [
           {
            "fillpattern": {
             "fillmode": "overlay",
             "size": 10,
             "solidity": 0.2
            },
            "type": "scatter"
           }
          ],
          "scatter3d": [
           {
            "line": {
             "colorbar": {
              "outlinewidth": 0,
              "ticks": ""
             }
            },
            "marker": {
             "colorbar": {
              "outlinewidth": 0,
              "ticks": ""
             }
            },
            "type": "scatter3d"
           }
          ],
          "scattercarpet": [
           {
            "marker": {
             "colorbar": {
              "outlinewidth": 0,
              "ticks": ""
             }
            },
            "type": "scattercarpet"
           }
          ],
          "scattergeo": [
           {
            "marker": {
             "colorbar": {
              "outlinewidth": 0,
              "ticks": ""
             }
            },
            "type": "scattergeo"
           }
          ],
          "scattergl": [
           {
            "marker": {
             "colorbar": {
              "outlinewidth": 0,
              "ticks": ""
             }
            },
            "type": "scattergl"
           }
          ],
          "scattermapbox": [
           {
            "marker": {
             "colorbar": {
              "outlinewidth": 0,
              "ticks": ""
             }
            },
            "type": "scattermapbox"
           }
          ],
          "scatterpolar": [
           {
            "marker": {
             "colorbar": {
              "outlinewidth": 0,
              "ticks": ""
             }
            },
            "type": "scatterpolar"
           }
          ],
          "scatterpolargl": [
           {
            "marker": {
             "colorbar": {
              "outlinewidth": 0,
              "ticks": ""
             }
            },
            "type": "scatterpolargl"
           }
          ],
          "scatterternary": [
           {
            "marker": {
             "colorbar": {
              "outlinewidth": 0,
              "ticks": ""
             }
            },
            "type": "scatterternary"
           }
          ],
          "surface": [
           {
            "colorbar": {
             "outlinewidth": 0,
             "ticks": ""
            },
            "colorscale": [
             [
              0,
              "#0d0887"
             ],
             [
              0.1111111111111111,
              "#46039f"
             ],
             [
              0.2222222222222222,
              "#7201a8"
             ],
             [
              0.3333333333333333,
              "#9c179e"
             ],
             [
              0.4444444444444444,
              "#bd3786"
             ],
             [
              0.5555555555555556,
              "#d8576b"
             ],
             [
              0.6666666666666666,
              "#ed7953"
             ],
             [
              0.7777777777777778,
              "#fb9f3a"
             ],
             [
              0.8888888888888888,
              "#fdca26"
             ],
             [
              1,
              "#f0f921"
             ]
            ],
            "type": "surface"
           }
          ],
          "table": [
           {
            "cells": {
             "fill": {
              "color": "#EBF0F8"
             },
             "line": {
              "color": "white"
             }
            },
            "header": {
             "fill": {
              "color": "#C8D4E3"
             },
             "line": {
              "color": "white"
             }
            },
            "type": "table"
           }
          ]
         },
         "layout": {
          "annotationdefaults": {
           "arrowcolor": "#2a3f5f",
           "arrowhead": 0,
           "arrowwidth": 1
          },
          "autotypenumbers": "strict",
          "coloraxis": {
           "colorbar": {
            "outlinewidth": 0,
            "ticks": ""
           }
          },
          "colorscale": {
           "diverging": [
            [
             0,
             "#8e0152"
            ],
            [
             0.1,
             "#c51b7d"
            ],
            [
             0.2,
             "#de77ae"
            ],
            [
             0.3,
             "#f1b6da"
            ],
            [
             0.4,
             "#fde0ef"
            ],
            [
             0.5,
             "#f7f7f7"
            ],
            [
             0.6,
             "#e6f5d0"
            ],
            [
             0.7,
             "#b8e186"
            ],
            [
             0.8,
             "#7fbc41"
            ],
            [
             0.9,
             "#4d9221"
            ],
            [
             1,
             "#276419"
            ]
           ],
           "sequential": [
            [
             0,
             "#0d0887"
            ],
            [
             0.1111111111111111,
             "#46039f"
            ],
            [
             0.2222222222222222,
             "#7201a8"
            ],
            [
             0.3333333333333333,
             "#9c179e"
            ],
            [
             0.4444444444444444,
             "#bd3786"
            ],
            [
             0.5555555555555556,
             "#d8576b"
            ],
            [
             0.6666666666666666,
             "#ed7953"
            ],
            [
             0.7777777777777778,
             "#fb9f3a"
            ],
            [
             0.8888888888888888,
             "#fdca26"
            ],
            [
             1,
             "#f0f921"
            ]
           ],
           "sequentialminus": [
            [
             0,
             "#0d0887"
            ],
            [
             0.1111111111111111,
             "#46039f"
            ],
            [
             0.2222222222222222,
             "#7201a8"
            ],
            [
             0.3333333333333333,
             "#9c179e"
            ],
            [
             0.4444444444444444,
             "#bd3786"
            ],
            [
             0.5555555555555556,
             "#d8576b"
            ],
            [
             0.6666666666666666,
             "#ed7953"
            ],
            [
             0.7777777777777778,
             "#fb9f3a"
            ],
            [
             0.8888888888888888,
             "#fdca26"
            ],
            [
             1,
             "#f0f921"
            ]
           ]
          },
          "colorway": [
           "#636efa",
           "#EF553B",
           "#00cc96",
           "#ab63fa",
           "#FFA15A",
           "#19d3f3",
           "#FF6692",
           "#B6E880",
           "#FF97FF",
           "#FECB52"
          ],
          "font": {
           "color": "#2a3f5f"
          },
          "geo": {
           "bgcolor": "white",
           "lakecolor": "white",
           "landcolor": "#E5ECF6",
           "showlakes": true,
           "showland": true,
           "subunitcolor": "white"
          },
          "hoverlabel": {
           "align": "left"
          },
          "hovermode": "closest",
          "mapbox": {
           "style": "light"
          },
          "paper_bgcolor": "white",
          "plot_bgcolor": "#E5ECF6",
          "polar": {
           "angularaxis": {
            "gridcolor": "white",
            "linecolor": "white",
            "ticks": ""
           },
           "bgcolor": "#E5ECF6",
           "radialaxis": {
            "gridcolor": "white",
            "linecolor": "white",
            "ticks": ""
           }
          },
          "scene": {
           "xaxis": {
            "backgroundcolor": "#E5ECF6",
            "gridcolor": "white",
            "gridwidth": 2,
            "linecolor": "white",
            "showbackground": true,
            "ticks": "",
            "zerolinecolor": "white"
           },
           "yaxis": {
            "backgroundcolor": "#E5ECF6",
            "gridcolor": "white",
            "gridwidth": 2,
            "linecolor": "white",
            "showbackground": true,
            "ticks": "",
            "zerolinecolor": "white"
           },
           "zaxis": {
            "backgroundcolor": "#E5ECF6",
            "gridcolor": "white",
            "gridwidth": 2,
            "linecolor": "white",
            "showbackground": true,
            "ticks": "",
            "zerolinecolor": "white"
           }
          },
          "shapedefaults": {
           "line": {
            "color": "#2a3f5f"
           }
          },
          "ternary": {
           "aaxis": {
            "gridcolor": "white",
            "linecolor": "white",
            "ticks": ""
           },
           "baxis": {
            "gridcolor": "white",
            "linecolor": "white",
            "ticks": ""
           },
           "bgcolor": "#E5ECF6",
           "caxis": {
            "gridcolor": "white",
            "linecolor": "white",
            "ticks": ""
           }
          },
          "title": {
           "x": 0.05
          },
          "xaxis": {
           "automargin": true,
           "gridcolor": "white",
           "linecolor": "white",
           "ticks": "",
           "title": {
            "standoff": 15
           },
           "zerolinecolor": "white",
           "zerolinewidth": 2
          },
          "yaxis": {
           "automargin": true,
           "gridcolor": "white",
           "linecolor": "white",
           "ticks": "",
           "title": {
            "standoff": 15
           },
           "zerolinecolor": "white",
           "zerolinewidth": 2
          }
         }
        },
        "title": {
         "text": "Manufacturing Defects Simulation (Percentage)"
        },
        "xaxis": {
         "title": {
          "text": "Number of Defective Items"
         }
        },
        "yaxis": {
         "title": {
          "text": "Percentage"
         }
        }
       }
      }
     },
     "metadata": {},
     "output_type": "display_data"
    }
   ],
   "source": [
    "# Plotting for the Quality Control\n",
    "fig = go.Figure()\n",
    "fig.add_trace(go.Histogram(\n",
    "    x=defects,\n",
    "    nbinsx=50,\n",
    "    name='Experimental',\n",
    "    marker_color='blue',\n",
    "    histnorm='percent'\n",
    "))\n",
    "fig.add_trace(go.Scatter(\n",
    "    x=k_values_defects,\n",
    "    y=theoretical_pmf_defects,\n",
    "    mode='markers+lines',\n",
    "    name='Theoretical',\n",
    "    marker_color='red'\n",
    "))\n",
    "fig.update_layout(\n",
    "    title=\"Manufacturing Defects Simulation (Percentage)\",\n",
    "    xaxis_title=\"Number of Defective Items\",\n",
    "    yaxis_title=\"Percentage\",\n",
    "    bargap=0.1\n",
    ")\n",
    "fig.show()"
   ]
  },
  {
   "cell_type": "code",
   "execution_count": 77,
   "metadata": {},
   "outputs": [],
   "source": [
    "theoretical_pmf_defects_count = theoretical_pmf_defects / 100 * n_simulations_qc\n"
   ]
  },
  {
   "cell_type": "code",
   "execution_count": 78,
   "metadata": {},
   "outputs": [
    {
     "data": {
      "application/vnd.plotly.v1+json": {
       "config": {
        "plotlyServerURL": "https://plot.ly"
       },
       "data": [
        {
         "marker": {
          "color": "red"
         },
         "name": "Experimental",
         "nbinsx": 50,
         "type": "histogram",
         "x": [
          9,
          7,
          12,
          6,
          9,
          6,
          12,
          11,
          6,
          10,
          10,
          12,
          12,
          11,
          11,
          10,
          10,
          14,
          12,
          5,
          8,
          11,
          10,
          8,
          6,
          14,
          12,
          9,
          15,
          9,
          7,
          14,
          9,
          10,
          13,
          12,
          9,
          7,
          9,
          16,
          11,
          10,
          6,
          7,
          16,
          4,
          11,
          11,
          13,
          11,
          7,
          9,
          12,
          7,
          11,
          11,
          9,
          5,
          13,
          11,
          7,
          12,
          11,
          12,
          12,
          10,
          14,
          12,
          11,
          7,
          5,
          18,
          6,
          8,
          9,
          13,
          8,
          8,
          12,
          13,
          10,
          6,
          6,
          8,
          5,
          7,
          8,
          11,
          9,
          9,
          7,
          11,
          9,
          10,
          9,
          12,
          7,
          13,
          12,
          13,
          13,
          9,
          10,
          6,
          10,
          10,
          8,
          7,
          10,
          12,
          9,
          11,
          16,
          15,
          13,
          11,
          7,
          9,
          6,
          12,
          7,
          9,
          8,
          8,
          8,
          6,
          7,
          15,
          11,
          8,
          9,
          10,
          12,
          8,
          10,
          4,
          9,
          13,
          13,
          7,
          2,
          9,
          13,
          5,
          10,
          10,
          8,
          7,
          17,
          10,
          5,
          11,
          11,
          7,
          15,
          8,
          11,
          13,
          9,
          10,
          7,
          9,
          14,
          9,
          12,
          9,
          7,
          15,
          10,
          11,
          9,
          4,
          17,
          12,
          13,
          10,
          11,
          11,
          7,
          10,
          16,
          8,
          8,
          15,
          13,
          12,
          13,
          13,
          13,
          15,
          13,
          5,
          8,
          12,
          11,
          6,
          7,
          6,
          13,
          11,
          16,
          10,
          10,
          17,
          11,
          10,
          8,
          8,
          7,
          9,
          7,
          13,
          10,
          13,
          20,
          8,
          11,
          11,
          10,
          7,
          4,
          11,
          9,
          10,
          11,
          11,
          7,
          11,
          10,
          3,
          13,
          10,
          12,
          9,
          7,
          12,
          10,
          8,
          6,
          15,
          8,
          5,
          7,
          9,
          7,
          14,
          11,
          10,
          10,
          8,
          7,
          14,
          12,
          9,
          6,
          15,
          8,
          6,
          14,
          9,
          10,
          12,
          11,
          13,
          19,
          10,
          9,
          4,
          6,
          19,
          12,
          7,
          5,
          3,
          12,
          10,
          12,
          9,
          11,
          5,
          13,
          9,
          5,
          10,
          12,
          11,
          11,
          8,
          6,
          9,
          7,
          10,
          9,
          9,
          13,
          15,
          10,
          9,
          12,
          10,
          10,
          8,
          8,
          17,
          13,
          11,
          5,
          13,
          13,
          11,
          9,
          11,
          10,
          13,
          12,
          7,
          13,
          9,
          11,
          10,
          16,
          6,
          14,
          7,
          16,
          10,
          8,
          4,
          14,
          8,
          12,
          12,
          13,
          15,
          13,
          10,
          11,
          8,
          5,
          7,
          10,
          6,
          11,
          6,
          14,
          8,
          7,
          11,
          5,
          12,
          9,
          10,
          11,
          12,
          12,
          9,
          9,
          13,
          10,
          9,
          6,
          6,
          11,
          12,
          5,
          9,
          10,
          8,
          14,
          8,
          9,
          15,
          11,
          11,
          8,
          11,
          10,
          11,
          8,
          17,
          12,
          17,
          6,
          8,
          8,
          11,
          10,
          10,
          10,
          5,
          14,
          11,
          11,
          15,
          9,
          10,
          7,
          14,
          8,
          9,
          6,
          14,
          12,
          9,
          8,
          11,
          8,
          7,
          15,
          13,
          8,
          17,
          11,
          8,
          9,
          17,
          5,
          14,
          8,
          9,
          9,
          3,
          7,
          8,
          9,
          13,
          7,
          8,
          11,
          13,
          18,
          11,
          6,
          7,
          7,
          9,
          16,
          10,
          8,
          12,
          6,
          11,
          6,
          14,
          14,
          12,
          5,
          16,
          16,
          9,
          12,
          7,
          9,
          14,
          5,
          8,
          6,
          13,
          9,
          9,
          10,
          8,
          7,
          10,
          4,
          7,
          10,
          9,
          10,
          15,
          10,
          10,
          12,
          7,
          10,
          5,
          7,
          7,
          13,
          7,
          8,
          9,
          10,
          9,
          13,
          11,
          7,
          14,
          14,
          9,
          11,
          12,
          12,
          13,
          6,
          12,
          7,
          8,
          5,
          10,
          8,
          8,
          13,
          15,
          11,
          12,
          11,
          8,
          8,
          13,
          10,
          9,
          13,
          10,
          9,
          8,
          4,
          7,
          13,
          13,
          10,
          10,
          14,
          11,
          12,
          5,
          9,
          11,
          7,
          13,
          6,
          10,
          6,
          13,
          11,
          9,
          15,
          5,
          11,
          7,
          10,
          7,
          16,
          14,
          12,
          10,
          9,
          13,
          14,
          6,
          11,
          5,
          11,
          11,
          12,
          12,
          14,
          9,
          10,
          16,
          16,
          8,
          9,
          10,
          7,
          10,
          12,
          12,
          8,
          13,
          9,
          8,
          9,
          8,
          16,
          11,
          13,
          13,
          10,
          10,
          6,
          12,
          6,
          8,
          6,
          6,
          10,
          12,
          7,
          13,
          9,
          8,
          12,
          10,
          16,
          10,
          10,
          9,
          15,
          18,
          5,
          18,
          10,
          19,
          10,
          7,
          13,
          12,
          9,
          10,
          8,
          10,
          4,
          14,
          8,
          10,
          11,
          6,
          9,
          18,
          10,
          13,
          3,
          7,
          10,
          8,
          11,
          12,
          5,
          15,
          14,
          8,
          5,
          7,
          14,
          5,
          13,
          9,
          7,
          12,
          13,
          13,
          6,
          11,
          10,
          12,
          7,
          12,
          9,
          10,
          7,
          12,
          13,
          10,
          12,
          15,
          14,
          6,
          9,
          10,
          10,
          9,
          5,
          16,
          7,
          6,
          11,
          16,
          10,
          10,
          12,
          7,
          12,
          13,
          13,
          9,
          11,
          14,
          13,
          8,
          7,
          9,
          7,
          9,
          9,
          5,
          11,
          10,
          12,
          10,
          9,
          6,
          10,
          12,
          9,
          9,
          10,
          9,
          11,
          13,
          15,
          10,
          9,
          14,
          12,
          4,
          13,
          11,
          12,
          14,
          6,
          5,
          14,
          10,
          9,
          13,
          6,
          8,
          13,
          8,
          11,
          6,
          11,
          9,
          4,
          13,
          15,
          15,
          12,
          13,
          9,
          12,
          10,
          7,
          12,
          8,
          9,
          7,
          6,
          15,
          8,
          9,
          13,
          14,
          8,
          16,
          9,
          9,
          8,
          8,
          15,
          8,
          5,
          6,
          10,
          9,
          11,
          3,
          14,
          13,
          9,
          6,
          15,
          16,
          12,
          8,
          9,
          13,
          16,
          10,
          9,
          10,
          13,
          11,
          7,
          9,
          12,
          13,
          5,
          15,
          7,
          13,
          11,
          4,
          8,
          9,
          9,
          9,
          16,
          6,
          10,
          6,
          7,
          14,
          10,
          10,
          4,
          7,
          13,
          13,
          9,
          12,
          4,
          7,
          12,
          9,
          10,
          9,
          7,
          12,
          10,
          8,
          5,
          11,
          10,
          9,
          13,
          5,
          6,
          9,
          8,
          9,
          8,
          7,
          11,
          9,
          17,
          6,
          12,
          9,
          11,
          13,
          11,
          5,
          8,
          6,
          10,
          8,
          8,
          9,
          14,
          6,
          6,
          11,
          11,
          12,
          5,
          8,
          19,
          10,
          9,
          9,
          15,
          13,
          13,
          9,
          14,
          8,
          20,
          13,
          10,
          8,
          13,
          9,
          6,
          14,
          15,
          7,
          12,
          9,
          7,
          9,
          7,
          9,
          15,
          4,
          9,
          8,
          7,
          11,
          10,
          15,
          8,
          5,
          10,
          8,
          11,
          10,
          10,
          7,
          11,
          12,
          15,
          11,
          6,
          10,
          13,
          15,
          5,
          3,
          11,
          12,
          4,
          12,
          5,
          6,
          7,
          12,
          10,
          11,
          10,
          7,
          10,
          17,
          8,
          9,
          13,
          8,
          9,
          10,
          4,
          11,
          10,
          14,
          15,
          7,
          3,
          6,
          12,
          7,
          12,
          11,
          13,
          9,
          11,
          12,
          16,
          7,
          8,
          9,
          9,
          10,
          13,
          8,
          10,
          11,
          14,
          10,
          8,
          13,
          12,
          10,
          12,
          12,
          7,
          9,
          11,
          10,
          9,
          8,
          8,
          7,
          10,
          11,
          11,
          22,
          8,
          8,
          18,
          13,
          9,
          11,
          14,
          11,
          13,
          11,
          6,
          15,
          15,
          10,
          13,
          14,
          17,
          8,
          6,
          12,
          11,
          16,
          12,
          8,
          4,
          11,
          10,
          6,
          5,
          13,
          6,
          13,
          6,
          11
         ]
        },
        {
         "marker": {
          "color": "blue"
         },
         "mode": "markers+lines",
         "name": "Theoretical",
         "type": "scatter",
         "x": [
          0,
          1,
          2,
          3,
          4,
          5,
          6,
          7,
          8,
          9,
          10,
          11,
          12,
          13,
          14,
          15,
          16,
          17,
          18,
          19,
          20,
          21,
          22,
          23,
          24,
          25,
          26,
          27,
          28,
          29,
          30,
          31,
          32,
          33,
          34,
          35,
          36,
          37,
          38,
          39,
          40,
          41,
          42,
          43,
          44,
          45,
          46,
          47,
          48,
          49
         ],
         "y": [
          0.043171247410658205,
          0.4360732061682683,
          2.2001875402126028,
          7.393222778222852,
          18.613745226990343,
          37.453111608247184,
          62.737114562636236,
          89.98656836256922,
          112.82406866670631,
          125.61332897572686,
          125.74021112620751,
          114.30928284200647,
          95.16151576662018,
          73.05328483094051,
          52.022793743245494,
          34.54173375814147,
          21.479550348339203,
          12.558453679599406,
          6.927586962427723,
          3.6166349798532904,
          1.7918782400182216,
          0.8446564094361978,
          0.37966879010010973,
          0.16307249746065278,
          0.0670546422639132,
          0.026442557919021878,
          0.010016120423872003,
          0.0036497199000566113,
          0.001281088550777438,
          0.00043372276954220523,
          0.0001417995990658189,
          0.0000448177292583397,
          0.000013708453172768659,
          0.000004061763903042518,
          0.000001166882262104029,
          3.2531263064718114e-7,
          8.808268478522274e-8,
          2.318091950121591e-8,
          5.93387173834957e-9,
          1.4784730930567836e-9,
          3.5879107132009254e-10,
          8.485819868620138e-11,
          1.9571672087558153e-11,
          4.404430786911129e-12,
          9.67640097124419e-13,
          2.0764622510683297e-13,
          4.3544608031845665e-14,
          8.92790802974028e-15,
          1.7904664041124573e-15,
          3.513758022500591e-16
         ]
        }
       ],
       "layout": {
        "bargap": 0.1,
        "template": {
         "data": {
          "bar": [
           {
            "error_x": {
             "color": "#2a3f5f"
            },
            "error_y": {
             "color": "#2a3f5f"
            },
            "marker": {
             "line": {
              "color": "#E5ECF6",
              "width": 0.5
             },
             "pattern": {
              "fillmode": "overlay",
              "size": 10,
              "solidity": 0.2
             }
            },
            "type": "bar"
           }
          ],
          "barpolar": [
           {
            "marker": {
             "line": {
              "color": "#E5ECF6",
              "width": 0.5
             },
             "pattern": {
              "fillmode": "overlay",
              "size": 10,
              "solidity": 0.2
             }
            },
            "type": "barpolar"
           }
          ],
          "carpet": [
           {
            "aaxis": {
             "endlinecolor": "#2a3f5f",
             "gridcolor": "white",
             "linecolor": "white",
             "minorgridcolor": "white",
             "startlinecolor": "#2a3f5f"
            },
            "baxis": {
             "endlinecolor": "#2a3f5f",
             "gridcolor": "white",
             "linecolor": "white",
             "minorgridcolor": "white",
             "startlinecolor": "#2a3f5f"
            },
            "type": "carpet"
           }
          ],
          "choropleth": [
           {
            "colorbar": {
             "outlinewidth": 0,
             "ticks": ""
            },
            "type": "choropleth"
           }
          ],
          "contour": [
           {
            "colorbar": {
             "outlinewidth": 0,
             "ticks": ""
            },
            "colorscale": [
             [
              0,
              "#0d0887"
             ],
             [
              0.1111111111111111,
              "#46039f"
             ],
             [
              0.2222222222222222,
              "#7201a8"
             ],
             [
              0.3333333333333333,
              "#9c179e"
             ],
             [
              0.4444444444444444,
              "#bd3786"
             ],
             [
              0.5555555555555556,
              "#d8576b"
             ],
             [
              0.6666666666666666,
              "#ed7953"
             ],
             [
              0.7777777777777778,
              "#fb9f3a"
             ],
             [
              0.8888888888888888,
              "#fdca26"
             ],
             [
              1,
              "#f0f921"
             ]
            ],
            "type": "contour"
           }
          ],
          "contourcarpet": [
           {
            "colorbar": {
             "outlinewidth": 0,
             "ticks": ""
            },
            "type": "contourcarpet"
           }
          ],
          "heatmap": [
           {
            "colorbar": {
             "outlinewidth": 0,
             "ticks": ""
            },
            "colorscale": [
             [
              0,
              "#0d0887"
             ],
             [
              0.1111111111111111,
              "#46039f"
             ],
             [
              0.2222222222222222,
              "#7201a8"
             ],
             [
              0.3333333333333333,
              "#9c179e"
             ],
             [
              0.4444444444444444,
              "#bd3786"
             ],
             [
              0.5555555555555556,
              "#d8576b"
             ],
             [
              0.6666666666666666,
              "#ed7953"
             ],
             [
              0.7777777777777778,
              "#fb9f3a"
             ],
             [
              0.8888888888888888,
              "#fdca26"
             ],
             [
              1,
              "#f0f921"
             ]
            ],
            "type": "heatmap"
           }
          ],
          "heatmapgl": [
           {
            "colorbar": {
             "outlinewidth": 0,
             "ticks": ""
            },
            "colorscale": [
             [
              0,
              "#0d0887"
             ],
             [
              0.1111111111111111,
              "#46039f"
             ],
             [
              0.2222222222222222,
              "#7201a8"
             ],
             [
              0.3333333333333333,
              "#9c179e"
             ],
             [
              0.4444444444444444,
              "#bd3786"
             ],
             [
              0.5555555555555556,
              "#d8576b"
             ],
             [
              0.6666666666666666,
              "#ed7953"
             ],
             [
              0.7777777777777778,
              "#fb9f3a"
             ],
             [
              0.8888888888888888,
              "#fdca26"
             ],
             [
              1,
              "#f0f921"
             ]
            ],
            "type": "heatmapgl"
           }
          ],
          "histogram": [
           {
            "marker": {
             "pattern": {
              "fillmode": "overlay",
              "size": 10,
              "solidity": 0.2
             }
            },
            "type": "histogram"
           }
          ],
          "histogram2d": [
           {
            "colorbar": {
             "outlinewidth": 0,
             "ticks": ""
            },
            "colorscale": [
             [
              0,
              "#0d0887"
             ],
             [
              0.1111111111111111,
              "#46039f"
             ],
             [
              0.2222222222222222,
              "#7201a8"
             ],
             [
              0.3333333333333333,
              "#9c179e"
             ],
             [
              0.4444444444444444,
              "#bd3786"
             ],
             [
              0.5555555555555556,
              "#d8576b"
             ],
             [
              0.6666666666666666,
              "#ed7953"
             ],
             [
              0.7777777777777778,
              "#fb9f3a"
             ],
             [
              0.8888888888888888,
              "#fdca26"
             ],
             [
              1,
              "#f0f921"
             ]
            ],
            "type": "histogram2d"
           }
          ],
          "histogram2dcontour": [
           {
            "colorbar": {
             "outlinewidth": 0,
             "ticks": ""
            },
            "colorscale": [
             [
              0,
              "#0d0887"
             ],
             [
              0.1111111111111111,
              "#46039f"
             ],
             [
              0.2222222222222222,
              "#7201a8"
             ],
             [
              0.3333333333333333,
              "#9c179e"
             ],
             [
              0.4444444444444444,
              "#bd3786"
             ],
             [
              0.5555555555555556,
              "#d8576b"
             ],
             [
              0.6666666666666666,
              "#ed7953"
             ],
             [
              0.7777777777777778,
              "#fb9f3a"
             ],
             [
              0.8888888888888888,
              "#fdca26"
             ],
             [
              1,
              "#f0f921"
             ]
            ],
            "type": "histogram2dcontour"
           }
          ],
          "mesh3d": [
           {
            "colorbar": {
             "outlinewidth": 0,
             "ticks": ""
            },
            "type": "mesh3d"
           }
          ],
          "parcoords": [
           {
            "line": {
             "colorbar": {
              "outlinewidth": 0,
              "ticks": ""
             }
            },
            "type": "parcoords"
           }
          ],
          "pie": [
           {
            "automargin": true,
            "type": "pie"
           }
          ],
          "scatter": [
           {
            "fillpattern": {
             "fillmode": "overlay",
             "size": 10,
             "solidity": 0.2
            },
            "type": "scatter"
           }
          ],
          "scatter3d": [
           {
            "line": {
             "colorbar": {
              "outlinewidth": 0,
              "ticks": ""
             }
            },
            "marker": {
             "colorbar": {
              "outlinewidth": 0,
              "ticks": ""
             }
            },
            "type": "scatter3d"
           }
          ],
          "scattercarpet": [
           {
            "marker": {
             "colorbar": {
              "outlinewidth": 0,
              "ticks": ""
             }
            },
            "type": "scattercarpet"
           }
          ],
          "scattergeo": [
           {
            "marker": {
             "colorbar": {
              "outlinewidth": 0,
              "ticks": ""
             }
            },
            "type": "scattergeo"
           }
          ],
          "scattergl": [
           {
            "marker": {
             "colorbar": {
              "outlinewidth": 0,
              "ticks": ""
             }
            },
            "type": "scattergl"
           }
          ],
          "scattermapbox": [
           {
            "marker": {
             "colorbar": {
              "outlinewidth": 0,
              "ticks": ""
             }
            },
            "type": "scattermapbox"
           }
          ],
          "scatterpolar": [
           {
            "marker": {
             "colorbar": {
              "outlinewidth": 0,
              "ticks": ""
             }
            },
            "type": "scatterpolar"
           }
          ],
          "scatterpolargl": [
           {
            "marker": {
             "colorbar": {
              "outlinewidth": 0,
              "ticks": ""
             }
            },
            "type": "scatterpolargl"
           }
          ],
          "scatterternary": [
           {
            "marker": {
             "colorbar": {
              "outlinewidth": 0,
              "ticks": ""
             }
            },
            "type": "scatterternary"
           }
          ],
          "surface": [
           {
            "colorbar": {
             "outlinewidth": 0,
             "ticks": ""
            },
            "colorscale": [
             [
              0,
              "#0d0887"
             ],
             [
              0.1111111111111111,
              "#46039f"
             ],
             [
              0.2222222222222222,
              "#7201a8"
             ],
             [
              0.3333333333333333,
              "#9c179e"
             ],
             [
              0.4444444444444444,
              "#bd3786"
             ],
             [
              0.5555555555555556,
              "#d8576b"
             ],
             [
              0.6666666666666666,
              "#ed7953"
             ],
             [
              0.7777777777777778,
              "#fb9f3a"
             ],
             [
              0.8888888888888888,
              "#fdca26"
             ],
             [
              1,
              "#f0f921"
             ]
            ],
            "type": "surface"
           }
          ],
          "table": [
           {
            "cells": {
             "fill": {
              "color": "#EBF0F8"
             },
             "line": {
              "color": "white"
             }
            },
            "header": {
             "fill": {
              "color": "#C8D4E3"
             },
             "line": {
              "color": "white"
             }
            },
            "type": "table"
           }
          ]
         },
         "layout": {
          "annotationdefaults": {
           "arrowcolor": "#2a3f5f",
           "arrowhead": 0,
           "arrowwidth": 1
          },
          "autotypenumbers": "strict",
          "coloraxis": {
           "colorbar": {
            "outlinewidth": 0,
            "ticks": ""
           }
          },
          "colorscale": {
           "diverging": [
            [
             0,
             "#8e0152"
            ],
            [
             0.1,
             "#c51b7d"
            ],
            [
             0.2,
             "#de77ae"
            ],
            [
             0.3,
             "#f1b6da"
            ],
            [
             0.4,
             "#fde0ef"
            ],
            [
             0.5,
             "#f7f7f7"
            ],
            [
             0.6,
             "#e6f5d0"
            ],
            [
             0.7,
             "#b8e186"
            ],
            [
             0.8,
             "#7fbc41"
            ],
            [
             0.9,
             "#4d9221"
            ],
            [
             1,
             "#276419"
            ]
           ],
           "sequential": [
            [
             0,
             "#0d0887"
            ],
            [
             0.1111111111111111,
             "#46039f"
            ],
            [
             0.2222222222222222,
             "#7201a8"
            ],
            [
             0.3333333333333333,
             "#9c179e"
            ],
            [
             0.4444444444444444,
             "#bd3786"
            ],
            [
             0.5555555555555556,
             "#d8576b"
            ],
            [
             0.6666666666666666,
             "#ed7953"
            ],
            [
             0.7777777777777778,
             "#fb9f3a"
            ],
            [
             0.8888888888888888,
             "#fdca26"
            ],
            [
             1,
             "#f0f921"
            ]
           ],
           "sequentialminus": [
            [
             0,
             "#0d0887"
            ],
            [
             0.1111111111111111,
             "#46039f"
            ],
            [
             0.2222222222222222,
             "#7201a8"
            ],
            [
             0.3333333333333333,
             "#9c179e"
            ],
            [
             0.4444444444444444,
             "#bd3786"
            ],
            [
             0.5555555555555556,
             "#d8576b"
            ],
            [
             0.6666666666666666,
             "#ed7953"
            ],
            [
             0.7777777777777778,
             "#fb9f3a"
            ],
            [
             0.8888888888888888,
             "#fdca26"
            ],
            [
             1,
             "#f0f921"
            ]
           ]
          },
          "colorway": [
           "#636efa",
           "#EF553B",
           "#00cc96",
           "#ab63fa",
           "#FFA15A",
           "#19d3f3",
           "#FF6692",
           "#B6E880",
           "#FF97FF",
           "#FECB52"
          ],
          "font": {
           "color": "#2a3f5f"
          },
          "geo": {
           "bgcolor": "white",
           "lakecolor": "white",
           "landcolor": "#E5ECF6",
           "showlakes": true,
           "showland": true,
           "subunitcolor": "white"
          },
          "hoverlabel": {
           "align": "left"
          },
          "hovermode": "closest",
          "mapbox": {
           "style": "light"
          },
          "paper_bgcolor": "white",
          "plot_bgcolor": "#E5ECF6",
          "polar": {
           "angularaxis": {
            "gridcolor": "white",
            "linecolor": "white",
            "ticks": ""
           },
           "bgcolor": "#E5ECF6",
           "radialaxis": {
            "gridcolor": "white",
            "linecolor": "white",
            "ticks": ""
           }
          },
          "scene": {
           "xaxis": {
            "backgroundcolor": "#E5ECF6",
            "gridcolor": "white",
            "gridwidth": 2,
            "linecolor": "white",
            "showbackground": true,
            "ticks": "",
            "zerolinecolor": "white"
           },
           "yaxis": {
            "backgroundcolor": "#E5ECF6",
            "gridcolor": "white",
            "gridwidth": 2,
            "linecolor": "white",
            "showbackground": true,
            "ticks": "",
            "zerolinecolor": "white"
           },
           "zaxis": {
            "backgroundcolor": "#E5ECF6",
            "gridcolor": "white",
            "gridwidth": 2,
            "linecolor": "white",
            "showbackground": true,
            "ticks": "",
            "zerolinecolor": "white"
           }
          },
          "shapedefaults": {
           "line": {
            "color": "#2a3f5f"
           }
          },
          "ternary": {
           "aaxis": {
            "gridcolor": "white",
            "linecolor": "white",
            "ticks": ""
           },
           "baxis": {
            "gridcolor": "white",
            "linecolor": "white",
            "ticks": ""
           },
           "bgcolor": "#E5ECF6",
           "caxis": {
            "gridcolor": "white",
            "linecolor": "white",
            "ticks": ""
           }
          },
          "title": {
           "x": 0.05
          },
          "xaxis": {
           "automargin": true,
           "gridcolor": "white",
           "linecolor": "white",
           "ticks": "",
           "title": {
            "standoff": 15
           },
           "zerolinecolor": "white",
           "zerolinewidth": 2
          },
          "yaxis": {
           "automargin": true,
           "gridcolor": "white",
           "linecolor": "white",
           "ticks": "",
           "title": {
            "standoff": 15
           },
           "zerolinecolor": "white",
           "zerolinewidth": 2
          }
         }
        },
        "title": {
         "text": "Manufacturing Defects Simulation (Counts)"
        },
        "xaxis": {
         "title": {
          "text": "Number of Defective Items"
         }
        },
        "yaxis": {
         "title": {
          "text": "Count"
         }
        }
       }
      }
     },
     "metadata": {},
     "output_type": "display_data"
    }
   ],
   "source": [
    "# Plotting for the Quality Control\n",
    "fig = go.Figure()\n",
    "fig.add_trace(go.Histogram(\n",
    "    x=defects,\n",
    "    nbinsx=50,\n",
    "    name='Experimental',\n",
    "    marker_color='red'\n",
    "))\n",
    "fig.add_trace(go.Scatter(\n",
    "    x=k_values_defects,\n",
    "    y=theoretical_pmf_defects_count,\n",
    "    mode='markers+lines',\n",
    "    name='Theoretical',\n",
    "    marker_color='blue'\n",
    "))\n",
    "fig.update_layout(\n",
    "    title=\"Manufacturing Defects Simulation (Counts)\",\n",
    "    xaxis_title=\"Number of Defective Items\",\n",
    "    yaxis_title=\"Count\",\n",
    "    bargap=0.1\n",
    ")\n",
    "fig.show()"
   ]
  },
  {
   "cell_type": "code",
   "execution_count": 79,
   "metadata": {},
   "outputs": [],
   "source": [
    "# Calculate the cumulative probabilities using binom.cdf\n",
    "cumulative_probabilities_defects = binom.cdf(k_values_defects, n_items, p_defective) * 100\n"
   ]
  },
  {
   "cell_type": "code",
   "execution_count": 80,
   "metadata": {},
   "outputs": [
    {
     "data": {
      "application/vnd.plotly.v1+json": {
       "config": {
        "plotlyServerURL": "https://plot.ly"
       },
       "data": [
        {
         "histnorm": "percent",
         "marker": {
          "color": "blue"
         },
         "name": "Experimental",
         "nbinsx": 50,
         "type": "histogram",
         "x": [
          9,
          7,
          12,
          6,
          9,
          6,
          12,
          11,
          6,
          10,
          10,
          12,
          12,
          11,
          11,
          10,
          10,
          14,
          12,
          5,
          8,
          11,
          10,
          8,
          6,
          14,
          12,
          9,
          15,
          9,
          7,
          14,
          9,
          10,
          13,
          12,
          9,
          7,
          9,
          16,
          11,
          10,
          6,
          7,
          16,
          4,
          11,
          11,
          13,
          11,
          7,
          9,
          12,
          7,
          11,
          11,
          9,
          5,
          13,
          11,
          7,
          12,
          11,
          12,
          12,
          10,
          14,
          12,
          11,
          7,
          5,
          18,
          6,
          8,
          9,
          13,
          8,
          8,
          12,
          13,
          10,
          6,
          6,
          8,
          5,
          7,
          8,
          11,
          9,
          9,
          7,
          11,
          9,
          10,
          9,
          12,
          7,
          13,
          12,
          13,
          13,
          9,
          10,
          6,
          10,
          10,
          8,
          7,
          10,
          12,
          9,
          11,
          16,
          15,
          13,
          11,
          7,
          9,
          6,
          12,
          7,
          9,
          8,
          8,
          8,
          6,
          7,
          15,
          11,
          8,
          9,
          10,
          12,
          8,
          10,
          4,
          9,
          13,
          13,
          7,
          2,
          9,
          13,
          5,
          10,
          10,
          8,
          7,
          17,
          10,
          5,
          11,
          11,
          7,
          15,
          8,
          11,
          13,
          9,
          10,
          7,
          9,
          14,
          9,
          12,
          9,
          7,
          15,
          10,
          11,
          9,
          4,
          17,
          12,
          13,
          10,
          11,
          11,
          7,
          10,
          16,
          8,
          8,
          15,
          13,
          12,
          13,
          13,
          13,
          15,
          13,
          5,
          8,
          12,
          11,
          6,
          7,
          6,
          13,
          11,
          16,
          10,
          10,
          17,
          11,
          10,
          8,
          8,
          7,
          9,
          7,
          13,
          10,
          13,
          20,
          8,
          11,
          11,
          10,
          7,
          4,
          11,
          9,
          10,
          11,
          11,
          7,
          11,
          10,
          3,
          13,
          10,
          12,
          9,
          7,
          12,
          10,
          8,
          6,
          15,
          8,
          5,
          7,
          9,
          7,
          14,
          11,
          10,
          10,
          8,
          7,
          14,
          12,
          9,
          6,
          15,
          8,
          6,
          14,
          9,
          10,
          12,
          11,
          13,
          19,
          10,
          9,
          4,
          6,
          19,
          12,
          7,
          5,
          3,
          12,
          10,
          12,
          9,
          11,
          5,
          13,
          9,
          5,
          10,
          12,
          11,
          11,
          8,
          6,
          9,
          7,
          10,
          9,
          9,
          13,
          15,
          10,
          9,
          12,
          10,
          10,
          8,
          8,
          17,
          13,
          11,
          5,
          13,
          13,
          11,
          9,
          11,
          10,
          13,
          12,
          7,
          13,
          9,
          11,
          10,
          16,
          6,
          14,
          7,
          16,
          10,
          8,
          4,
          14,
          8,
          12,
          12,
          13,
          15,
          13,
          10,
          11,
          8,
          5,
          7,
          10,
          6,
          11,
          6,
          14,
          8,
          7,
          11,
          5,
          12,
          9,
          10,
          11,
          12,
          12,
          9,
          9,
          13,
          10,
          9,
          6,
          6,
          11,
          12,
          5,
          9,
          10,
          8,
          14,
          8,
          9,
          15,
          11,
          11,
          8,
          11,
          10,
          11,
          8,
          17,
          12,
          17,
          6,
          8,
          8,
          11,
          10,
          10,
          10,
          5,
          14,
          11,
          11,
          15,
          9,
          10,
          7,
          14,
          8,
          9,
          6,
          14,
          12,
          9,
          8,
          11,
          8,
          7,
          15,
          13,
          8,
          17,
          11,
          8,
          9,
          17,
          5,
          14,
          8,
          9,
          9,
          3,
          7,
          8,
          9,
          13,
          7,
          8,
          11,
          13,
          18,
          11,
          6,
          7,
          7,
          9,
          16,
          10,
          8,
          12,
          6,
          11,
          6,
          14,
          14,
          12,
          5,
          16,
          16,
          9,
          12,
          7,
          9,
          14,
          5,
          8,
          6,
          13,
          9,
          9,
          10,
          8,
          7,
          10,
          4,
          7,
          10,
          9,
          10,
          15,
          10,
          10,
          12,
          7,
          10,
          5,
          7,
          7,
          13,
          7,
          8,
          9,
          10,
          9,
          13,
          11,
          7,
          14,
          14,
          9,
          11,
          12,
          12,
          13,
          6,
          12,
          7,
          8,
          5,
          10,
          8,
          8,
          13,
          15,
          11,
          12,
          11,
          8,
          8,
          13,
          10,
          9,
          13,
          10,
          9,
          8,
          4,
          7,
          13,
          13,
          10,
          10,
          14,
          11,
          12,
          5,
          9,
          11,
          7,
          13,
          6,
          10,
          6,
          13,
          11,
          9,
          15,
          5,
          11,
          7,
          10,
          7,
          16,
          14,
          12,
          10,
          9,
          13,
          14,
          6,
          11,
          5,
          11,
          11,
          12,
          12,
          14,
          9,
          10,
          16,
          16,
          8,
          9,
          10,
          7,
          10,
          12,
          12,
          8,
          13,
          9,
          8,
          9,
          8,
          16,
          11,
          13,
          13,
          10,
          10,
          6,
          12,
          6,
          8,
          6,
          6,
          10,
          12,
          7,
          13,
          9,
          8,
          12,
          10,
          16,
          10,
          10,
          9,
          15,
          18,
          5,
          18,
          10,
          19,
          10,
          7,
          13,
          12,
          9,
          10,
          8,
          10,
          4,
          14,
          8,
          10,
          11,
          6,
          9,
          18,
          10,
          13,
          3,
          7,
          10,
          8,
          11,
          12,
          5,
          15,
          14,
          8,
          5,
          7,
          14,
          5,
          13,
          9,
          7,
          12,
          13,
          13,
          6,
          11,
          10,
          12,
          7,
          12,
          9,
          10,
          7,
          12,
          13,
          10,
          12,
          15,
          14,
          6,
          9,
          10,
          10,
          9,
          5,
          16,
          7,
          6,
          11,
          16,
          10,
          10,
          12,
          7,
          12,
          13,
          13,
          9,
          11,
          14,
          13,
          8,
          7,
          9,
          7,
          9,
          9,
          5,
          11,
          10,
          12,
          10,
          9,
          6,
          10,
          12,
          9,
          9,
          10,
          9,
          11,
          13,
          15,
          10,
          9,
          14,
          12,
          4,
          13,
          11,
          12,
          14,
          6,
          5,
          14,
          10,
          9,
          13,
          6,
          8,
          13,
          8,
          11,
          6,
          11,
          9,
          4,
          13,
          15,
          15,
          12,
          13,
          9,
          12,
          10,
          7,
          12,
          8,
          9,
          7,
          6,
          15,
          8,
          9,
          13,
          14,
          8,
          16,
          9,
          9,
          8,
          8,
          15,
          8,
          5,
          6,
          10,
          9,
          11,
          3,
          14,
          13,
          9,
          6,
          15,
          16,
          12,
          8,
          9,
          13,
          16,
          10,
          9,
          10,
          13,
          11,
          7,
          9,
          12,
          13,
          5,
          15,
          7,
          13,
          11,
          4,
          8,
          9,
          9,
          9,
          16,
          6,
          10,
          6,
          7,
          14,
          10,
          10,
          4,
          7,
          13,
          13,
          9,
          12,
          4,
          7,
          12,
          9,
          10,
          9,
          7,
          12,
          10,
          8,
          5,
          11,
          10,
          9,
          13,
          5,
          6,
          9,
          8,
          9,
          8,
          7,
          11,
          9,
          17,
          6,
          12,
          9,
          11,
          13,
          11,
          5,
          8,
          6,
          10,
          8,
          8,
          9,
          14,
          6,
          6,
          11,
          11,
          12,
          5,
          8,
          19,
          10,
          9,
          9,
          15,
          13,
          13,
          9,
          14,
          8,
          20,
          13,
          10,
          8,
          13,
          9,
          6,
          14,
          15,
          7,
          12,
          9,
          7,
          9,
          7,
          9,
          15,
          4,
          9,
          8,
          7,
          11,
          10,
          15,
          8,
          5,
          10,
          8,
          11,
          10,
          10,
          7,
          11,
          12,
          15,
          11,
          6,
          10,
          13,
          15,
          5,
          3,
          11,
          12,
          4,
          12,
          5,
          6,
          7,
          12,
          10,
          11,
          10,
          7,
          10,
          17,
          8,
          9,
          13,
          8,
          9,
          10,
          4,
          11,
          10,
          14,
          15,
          7,
          3,
          6,
          12,
          7,
          12,
          11,
          13,
          9,
          11,
          12,
          16,
          7,
          8,
          9,
          9,
          10,
          13,
          8,
          10,
          11,
          14,
          10,
          8,
          13,
          12,
          10,
          12,
          12,
          7,
          9,
          11,
          10,
          9,
          8,
          8,
          7,
          10,
          11,
          11,
          22,
          8,
          8,
          18,
          13,
          9,
          11,
          14,
          11,
          13,
          11,
          6,
          15,
          15,
          10,
          13,
          14,
          17,
          8,
          6,
          12,
          11,
          16,
          12,
          8,
          4,
          11,
          10,
          6,
          5,
          13,
          6,
          13,
          6,
          11
         ]
        },
        {
         "marker": {
          "color": "red"
         },
         "mode": "markers+lines",
         "name": "Theoretical PMF",
         "type": "scatter",
         "x": [
          0,
          1,
          2,
          3,
          4,
          5,
          6,
          7,
          8,
          9,
          10,
          11,
          12,
          13,
          14,
          15,
          16,
          17,
          18,
          19,
          20,
          21,
          22,
          23,
          24,
          25,
          26,
          27,
          28,
          29,
          30,
          31,
          32,
          33,
          34,
          35,
          36,
          37,
          38,
          39,
          40,
          41,
          42,
          43,
          44,
          45,
          46,
          47,
          48,
          49
         ],
         "y": [
          0.004317124741065821,
          0.043607320616826824,
          0.22001875402126025,
          0.7393222778222852,
          1.8613745226990344,
          3.7453111608247185,
          6.273711456263624,
          8.998656836256922,
          11.282406866670632,
          12.561332897572687,
          12.57402111262075,
          11.430928284200647,
          9.516151576662018,
          7.30532848309405,
          5.202279374324549,
          3.4541733758141473,
          2.1479550348339203,
          1.2558453679599406,
          0.6927586962427723,
          0.36166349798532904,
          0.17918782400182218,
          0.08446564094361977,
          0.03796687901001097,
          0.01630724974606528,
          0.006705464226391319,
          0.002644255791902188,
          0.0010016120423872003,
          0.0003649719900056611,
          0.00012810885507774381,
          0.00004337227695422053,
          0.000014179959906581892,
          0.00000448177292583397,
          0.0000013708453172768659,
          4.0617639030425183e-7,
          1.166882262104029e-7,
          3.253126306471811e-8,
          8.808268478522275e-9,
          2.318091950121591e-9,
          5.933871738349569e-10,
          1.4784730930567834e-10,
          3.5879107132009254e-11,
          8.485819868620138e-12,
          1.9571672087558153e-12,
          4.404430786911129e-13,
          9.67640097124419e-14,
          2.0764622510683296e-14,
          4.354460803184566e-15,
          8.927908029740278e-16,
          1.7904664041124575e-16,
          3.513758022500591e-17
         ]
        },
        {
         "marker": {
          "color": "green"
         },
         "mode": "markers+lines",
         "name": "Theoretical CDF",
         "type": "scatter",
         "x": [
          0,
          1,
          2,
          3,
          4,
          5,
          6,
          7,
          8,
          9,
          10,
          11,
          12,
          13,
          14,
          15,
          16,
          17,
          18,
          19,
          20,
          21,
          22,
          23,
          24,
          25,
          26,
          27,
          28,
          29,
          30,
          31,
          32,
          33,
          34,
          35,
          36,
          37,
          38,
          39,
          40,
          41,
          42,
          43,
          44,
          45,
          46,
          47,
          48,
          49
         ],
         "y": [
          0.004317124741065827,
          0.04792444535789151,
          0.2679431993791488,
          1.007265477201421,
          2.868639999900424,
          6.613951160725085,
          12.887662616988615,
          21.8863194532454,
          33.168726319915834,
          45.730059217488304,
          58.304080330109755,
          69.7350086143105,
          79.25116019097244,
          86.5564886740666,
          91.75876804839113,
          95.21294142420528,
          97.3608964590392,
          98.61674182699916,
          99.30950052324192,
          99.67116402122726,
          99.85035184522908,
          99.9348174861727,
          99.9727843651827,
          99.98909161492877,
          99.99579707915517,
          99.99844133494706,
          99.99944294698945,
          99.99980791897946,
          99.99993602783454,
          99.9999794001115,
          99.9999935800714,
          99.99999806184432,
          99.99999943268963,
          99.99999983886603,
          99.99999995555426,
          99.99999998808552,
          99.99999999689379,
          99.99999999921188,
          99.99999999980527,
          99.99999999995312,
          99.999999999989,
          99.99999999999748,
          99.99999999999943,
          99.99999999999987,
          99.99999999999997,
          100,
          100,
          100,
          100,
          100
         ]
        }
       ],
       "layout": {
        "bargap": 0.1,
        "template": {
         "data": {
          "bar": [
           {
            "error_x": {
             "color": "#2a3f5f"
            },
            "error_y": {
             "color": "#2a3f5f"
            },
            "marker": {
             "line": {
              "color": "#E5ECF6",
              "width": 0.5
             },
             "pattern": {
              "fillmode": "overlay",
              "size": 10,
              "solidity": 0.2
             }
            },
            "type": "bar"
           }
          ],
          "barpolar": [
           {
            "marker": {
             "line": {
              "color": "#E5ECF6",
              "width": 0.5
             },
             "pattern": {
              "fillmode": "overlay",
              "size": 10,
              "solidity": 0.2
             }
            },
            "type": "barpolar"
           }
          ],
          "carpet": [
           {
            "aaxis": {
             "endlinecolor": "#2a3f5f",
             "gridcolor": "white",
             "linecolor": "white",
             "minorgridcolor": "white",
             "startlinecolor": "#2a3f5f"
            },
            "baxis": {
             "endlinecolor": "#2a3f5f",
             "gridcolor": "white",
             "linecolor": "white",
             "minorgridcolor": "white",
             "startlinecolor": "#2a3f5f"
            },
            "type": "carpet"
           }
          ],
          "choropleth": [
           {
            "colorbar": {
             "outlinewidth": 0,
             "ticks": ""
            },
            "type": "choropleth"
           }
          ],
          "contour": [
           {
            "colorbar": {
             "outlinewidth": 0,
             "ticks": ""
            },
            "colorscale": [
             [
              0,
              "#0d0887"
             ],
             [
              0.1111111111111111,
              "#46039f"
             ],
             [
              0.2222222222222222,
              "#7201a8"
             ],
             [
              0.3333333333333333,
              "#9c179e"
             ],
             [
              0.4444444444444444,
              "#bd3786"
             ],
             [
              0.5555555555555556,
              "#d8576b"
             ],
             [
              0.6666666666666666,
              "#ed7953"
             ],
             [
              0.7777777777777778,
              "#fb9f3a"
             ],
             [
              0.8888888888888888,
              "#fdca26"
             ],
             [
              1,
              "#f0f921"
             ]
            ],
            "type": "contour"
           }
          ],
          "contourcarpet": [
           {
            "colorbar": {
             "outlinewidth": 0,
             "ticks": ""
            },
            "type": "contourcarpet"
           }
          ],
          "heatmap": [
           {
            "colorbar": {
             "outlinewidth": 0,
             "ticks": ""
            },
            "colorscale": [
             [
              0,
              "#0d0887"
             ],
             [
              0.1111111111111111,
              "#46039f"
             ],
             [
              0.2222222222222222,
              "#7201a8"
             ],
             [
              0.3333333333333333,
              "#9c179e"
             ],
             [
              0.4444444444444444,
              "#bd3786"
             ],
             [
              0.5555555555555556,
              "#d8576b"
             ],
             [
              0.6666666666666666,
              "#ed7953"
             ],
             [
              0.7777777777777778,
              "#fb9f3a"
             ],
             [
              0.8888888888888888,
              "#fdca26"
             ],
             [
              1,
              "#f0f921"
             ]
            ],
            "type": "heatmap"
           }
          ],
          "heatmapgl": [
           {
            "colorbar": {
             "outlinewidth": 0,
             "ticks": ""
            },
            "colorscale": [
             [
              0,
              "#0d0887"
             ],
             [
              0.1111111111111111,
              "#46039f"
             ],
             [
              0.2222222222222222,
              "#7201a8"
             ],
             [
              0.3333333333333333,
              "#9c179e"
             ],
             [
              0.4444444444444444,
              "#bd3786"
             ],
             [
              0.5555555555555556,
              "#d8576b"
             ],
             [
              0.6666666666666666,
              "#ed7953"
             ],
             [
              0.7777777777777778,
              "#fb9f3a"
             ],
             [
              0.8888888888888888,
              "#fdca26"
             ],
             [
              1,
              "#f0f921"
             ]
            ],
            "type": "heatmapgl"
           }
          ],
          "histogram": [
           {
            "marker": {
             "pattern": {
              "fillmode": "overlay",
              "size": 10,
              "solidity": 0.2
             }
            },
            "type": "histogram"
           }
          ],
          "histogram2d": [
           {
            "colorbar": {
             "outlinewidth": 0,
             "ticks": ""
            },
            "colorscale": [
             [
              0,
              "#0d0887"
             ],
             [
              0.1111111111111111,
              "#46039f"
             ],
             [
              0.2222222222222222,
              "#7201a8"
             ],
             [
              0.3333333333333333,
              "#9c179e"
             ],
             [
              0.4444444444444444,
              "#bd3786"
             ],
             [
              0.5555555555555556,
              "#d8576b"
             ],
             [
              0.6666666666666666,
              "#ed7953"
             ],
             [
              0.7777777777777778,
              "#fb9f3a"
             ],
             [
              0.8888888888888888,
              "#fdca26"
             ],
             [
              1,
              "#f0f921"
             ]
            ],
            "type": "histogram2d"
           }
          ],
          "histogram2dcontour": [
           {
            "colorbar": {
             "outlinewidth": 0,
             "ticks": ""
            },
            "colorscale": [
             [
              0,
              "#0d0887"
             ],
             [
              0.1111111111111111,
              "#46039f"
             ],
             [
              0.2222222222222222,
              "#7201a8"
             ],
             [
              0.3333333333333333,
              "#9c179e"
             ],
             [
              0.4444444444444444,
              "#bd3786"
             ],
             [
              0.5555555555555556,
              "#d8576b"
             ],
             [
              0.6666666666666666,
              "#ed7953"
             ],
             [
              0.7777777777777778,
              "#fb9f3a"
             ],
             [
              0.8888888888888888,
              "#fdca26"
             ],
             [
              1,
              "#f0f921"
             ]
            ],
            "type": "histogram2dcontour"
           }
          ],
          "mesh3d": [
           {
            "colorbar": {
             "outlinewidth": 0,
             "ticks": ""
            },
            "type": "mesh3d"
           }
          ],
          "parcoords": [
           {
            "line": {
             "colorbar": {
              "outlinewidth": 0,
              "ticks": ""
             }
            },
            "type": "parcoords"
           }
          ],
          "pie": [
           {
            "automargin": true,
            "type": "pie"
           }
          ],
          "scatter": [
           {
            "fillpattern": {
             "fillmode": "overlay",
             "size": 10,
             "solidity": 0.2
            },
            "type": "scatter"
           }
          ],
          "scatter3d": [
           {
            "line": {
             "colorbar": {
              "outlinewidth": 0,
              "ticks": ""
             }
            },
            "marker": {
             "colorbar": {
              "outlinewidth": 0,
              "ticks": ""
             }
            },
            "type": "scatter3d"
           }
          ],
          "scattercarpet": [
           {
            "marker": {
             "colorbar": {
              "outlinewidth": 0,
              "ticks": ""
             }
            },
            "type": "scattercarpet"
           }
          ],
          "scattergeo": [
           {
            "marker": {
             "colorbar": {
              "outlinewidth": 0,
              "ticks": ""
             }
            },
            "type": "scattergeo"
           }
          ],
          "scattergl": [
           {
            "marker": {
             "colorbar": {
              "outlinewidth": 0,
              "ticks": ""
             }
            },
            "type": "scattergl"
           }
          ],
          "scattermapbox": [
           {
            "marker": {
             "colorbar": {
              "outlinewidth": 0,
              "ticks": ""
             }
            },
            "type": "scattermapbox"
           }
          ],
          "scatterpolar": [
           {
            "marker": {
             "colorbar": {
              "outlinewidth": 0,
              "ticks": ""
             }
            },
            "type": "scatterpolar"
           }
          ],
          "scatterpolargl": [
           {
            "marker": {
             "colorbar": {
              "outlinewidth": 0,
              "ticks": ""
             }
            },
            "type": "scatterpolargl"
           }
          ],
          "scatterternary": [
           {
            "marker": {
             "colorbar": {
              "outlinewidth": 0,
              "ticks": ""
             }
            },
            "type": "scatterternary"
           }
          ],
          "surface": [
           {
            "colorbar": {
             "outlinewidth": 0,
             "ticks": ""
            },
            "colorscale": [
             [
              0,
              "#0d0887"
             ],
             [
              0.1111111111111111,
              "#46039f"
             ],
             [
              0.2222222222222222,
              "#7201a8"
             ],
             [
              0.3333333333333333,
              "#9c179e"
             ],
             [
              0.4444444444444444,
              "#bd3786"
             ],
             [
              0.5555555555555556,
              "#d8576b"
             ],
             [
              0.6666666666666666,
              "#ed7953"
             ],
             [
              0.7777777777777778,
              "#fb9f3a"
             ],
             [
              0.8888888888888888,
              "#fdca26"
             ],
             [
              1,
              "#f0f921"
             ]
            ],
            "type": "surface"
           }
          ],
          "table": [
           {
            "cells": {
             "fill": {
              "color": "#EBF0F8"
             },
             "line": {
              "color": "white"
             }
            },
            "header": {
             "fill": {
              "color": "#C8D4E3"
             },
             "line": {
              "color": "white"
             }
            },
            "type": "table"
           }
          ]
         },
         "layout": {
          "annotationdefaults": {
           "arrowcolor": "#2a3f5f",
           "arrowhead": 0,
           "arrowwidth": 1
          },
          "autotypenumbers": "strict",
          "coloraxis": {
           "colorbar": {
            "outlinewidth": 0,
            "ticks": ""
           }
          },
          "colorscale": {
           "diverging": [
            [
             0,
             "#8e0152"
            ],
            [
             0.1,
             "#c51b7d"
            ],
            [
             0.2,
             "#de77ae"
            ],
            [
             0.3,
             "#f1b6da"
            ],
            [
             0.4,
             "#fde0ef"
            ],
            [
             0.5,
             "#f7f7f7"
            ],
            [
             0.6,
             "#e6f5d0"
            ],
            [
             0.7,
             "#b8e186"
            ],
            [
             0.8,
             "#7fbc41"
            ],
            [
             0.9,
             "#4d9221"
            ],
            [
             1,
             "#276419"
            ]
           ],
           "sequential": [
            [
             0,
             "#0d0887"
            ],
            [
             0.1111111111111111,
             "#46039f"
            ],
            [
             0.2222222222222222,
             "#7201a8"
            ],
            [
             0.3333333333333333,
             "#9c179e"
            ],
            [
             0.4444444444444444,
             "#bd3786"
            ],
            [
             0.5555555555555556,
             "#d8576b"
            ],
            [
             0.6666666666666666,
             "#ed7953"
            ],
            [
             0.7777777777777778,
             "#fb9f3a"
            ],
            [
             0.8888888888888888,
             "#fdca26"
            ],
            [
             1,
             "#f0f921"
            ]
           ],
           "sequentialminus": [
            [
             0,
             "#0d0887"
            ],
            [
             0.1111111111111111,
             "#46039f"
            ],
            [
             0.2222222222222222,
             "#7201a8"
            ],
            [
             0.3333333333333333,
             "#9c179e"
            ],
            [
             0.4444444444444444,
             "#bd3786"
            ],
            [
             0.5555555555555556,
             "#d8576b"
            ],
            [
             0.6666666666666666,
             "#ed7953"
            ],
            [
             0.7777777777777778,
             "#fb9f3a"
            ],
            [
             0.8888888888888888,
             "#fdca26"
            ],
            [
             1,
             "#f0f921"
            ]
           ]
          },
          "colorway": [
           "#636efa",
           "#EF553B",
           "#00cc96",
           "#ab63fa",
           "#FFA15A",
           "#19d3f3",
           "#FF6692",
           "#B6E880",
           "#FF97FF",
           "#FECB52"
          ],
          "font": {
           "color": "#2a3f5f"
          },
          "geo": {
           "bgcolor": "white",
           "lakecolor": "white",
           "landcolor": "#E5ECF6",
           "showlakes": true,
           "showland": true,
           "subunitcolor": "white"
          },
          "hoverlabel": {
           "align": "left"
          },
          "hovermode": "closest",
          "mapbox": {
           "style": "light"
          },
          "paper_bgcolor": "white",
          "plot_bgcolor": "#E5ECF6",
          "polar": {
           "angularaxis": {
            "gridcolor": "white",
            "linecolor": "white",
            "ticks": ""
           },
           "bgcolor": "#E5ECF6",
           "radialaxis": {
            "gridcolor": "white",
            "linecolor": "white",
            "ticks": ""
           }
          },
          "scene": {
           "xaxis": {
            "backgroundcolor": "#E5ECF6",
            "gridcolor": "white",
            "gridwidth": 2,
            "linecolor": "white",
            "showbackground": true,
            "ticks": "",
            "zerolinecolor": "white"
           },
           "yaxis": {
            "backgroundcolor": "#E5ECF6",
            "gridcolor": "white",
            "gridwidth": 2,
            "linecolor": "white",
            "showbackground": true,
            "ticks": "",
            "zerolinecolor": "white"
           },
           "zaxis": {
            "backgroundcolor": "#E5ECF6",
            "gridcolor": "white",
            "gridwidth": 2,
            "linecolor": "white",
            "showbackground": true,
            "ticks": "",
            "zerolinecolor": "white"
           }
          },
          "shapedefaults": {
           "line": {
            "color": "#2a3f5f"
           }
          },
          "ternary": {
           "aaxis": {
            "gridcolor": "white",
            "linecolor": "white",
            "ticks": ""
           },
           "baxis": {
            "gridcolor": "white",
            "linecolor": "white",
            "ticks": ""
           },
           "bgcolor": "#E5ECF6",
           "caxis": {
            "gridcolor": "white",
            "linecolor": "white",
            "ticks": ""
           }
          },
          "title": {
           "x": 0.05
          },
          "xaxis": {
           "automargin": true,
           "gridcolor": "white",
           "linecolor": "white",
           "ticks": "",
           "title": {
            "standoff": 15
           },
           "zerolinecolor": "white",
           "zerolinewidth": 2
          },
          "yaxis": {
           "automargin": true,
           "gridcolor": "white",
           "linecolor": "white",
           "ticks": "",
           "title": {
            "standoff": 15
           },
           "zerolinecolor": "white",
           "zerolinewidth": 2
          }
         }
        },
        "title": {
         "text": "Manufacturing Defects Simulation (Percentage)"
        },
        "xaxis": {
         "title": {
          "text": "Number of Defective Items"
         }
        },
        "yaxis": {
         "title": {
          "text": "Percentage"
         }
        }
       }
      }
     },
     "metadata": {},
     "output_type": "display_data"
    }
   ],
   "source": [
    "# Plotting for the Quality Control with theoretical PMF and CDF\n",
    "fig = go.Figure()\n",
    "fig.add_trace(go.Histogram(\n",
    "    x=defects,\n",
    "    nbinsx=50,\n",
    "    name='Experimental',\n",
    "    marker_color='blue',\n",
    "    histnorm='percent'\n",
    "))\n",
    "fig.add_trace(go.Scatter(\n",
    "    x=k_values_defects,\n",
    "    y=theoretical_pmf_defects,\n",
    "    mode='markers+lines',\n",
    "    name='Theoretical PMF',\n",
    "    marker_color='red'\n",
    "))\n",
    "fig.add_trace(go.Scatter(\n",
    "    x=k_values_defects,\n",
    "    y=cumulative_probabilities_defects,\n",
    "    mode='markers+lines',\n",
    "    name='Theoretical CDF',\n",
    "    marker_color='green'\n",
    "))\n",
    "fig.update_layout(\n",
    "    title=\"Manufacturing Defects Simulation (Percentage)\",\n",
    "    xaxis_title=\"Number of Defective Items\",\n",
    "    yaxis_title=\"Percentage\",\n",
    "    bargap=0.1\n",
    ")"
   ]
  },
  {
   "cell_type": "code",
   "execution_count": 81,
   "metadata": {},
   "outputs": [],
   "source": [
    "defect_counts, bins = np.histogram(defects, bins=50, range=(0, 50))\n",
    "experimental_cdf_defects = np.cumsum(defect_counts)"
   ]
  },
  {
   "cell_type": "code",
   "execution_count": 82,
   "metadata": {},
   "outputs": [
    {
     "data": {
      "text/plain": [
       "array([ 9,  7, 12,  6,  9,  6, 12, 11,  6, 10, 10, 12, 12, 11, 11, 10, 10,\n",
       "       14, 12,  5,  8, 11, 10,  8,  6, 14, 12,  9, 15,  9,  7, 14,  9, 10,\n",
       "       13, 12,  9,  7,  9, 16, 11, 10,  6,  7, 16,  4, 11, 11, 13, 11,  7,\n",
       "        9, 12,  7, 11, 11,  9,  5, 13, 11,  7, 12, 11, 12, 12, 10, 14, 12,\n",
       "       11,  7,  5, 18,  6,  8,  9, 13,  8,  8, 12, 13, 10,  6,  6,  8,  5,\n",
       "        7,  8, 11,  9,  9,  7, 11,  9, 10,  9, 12,  7, 13, 12, 13, 13,  9,\n",
       "       10,  6, 10, 10,  8,  7, 10, 12,  9, 11, 16, 15, 13, 11,  7,  9,  6,\n",
       "       12,  7,  9,  8,  8,  8,  6,  7, 15, 11,  8,  9, 10, 12,  8, 10,  4,\n",
       "        9, 13, 13,  7,  2,  9, 13,  5, 10, 10,  8,  7, 17, 10,  5, 11, 11,\n",
       "        7, 15,  8, 11, 13,  9, 10,  7,  9, 14,  9, 12,  9,  7, 15, 10, 11,\n",
       "        9,  4, 17, 12, 13, 10, 11, 11,  7, 10, 16,  8,  8, 15, 13, 12, 13,\n",
       "       13, 13, 15, 13,  5,  8, 12, 11,  6,  7,  6, 13, 11, 16, 10, 10, 17,\n",
       "       11, 10,  8,  8,  7,  9,  7, 13, 10, 13, 20,  8, 11, 11, 10,  7,  4,\n",
       "       11,  9, 10, 11, 11,  7, 11, 10,  3, 13, 10, 12,  9,  7, 12, 10,  8,\n",
       "        6, 15,  8,  5,  7,  9,  7, 14, 11, 10, 10,  8,  7, 14, 12,  9,  6,\n",
       "       15,  8,  6, 14,  9, 10, 12, 11, 13, 19, 10,  9,  4,  6, 19, 12,  7,\n",
       "        5,  3, 12, 10, 12,  9, 11,  5, 13,  9,  5, 10, 12, 11, 11,  8,  6,\n",
       "        9,  7, 10,  9,  9, 13, 15, 10,  9, 12, 10, 10,  8,  8, 17, 13, 11,\n",
       "        5, 13, 13, 11,  9, 11, 10, 13, 12,  7, 13,  9, 11, 10, 16,  6, 14,\n",
       "        7, 16, 10,  8,  4, 14,  8, 12, 12, 13, 15, 13, 10, 11,  8,  5,  7,\n",
       "       10,  6, 11,  6, 14,  8,  7, 11,  5, 12,  9, 10, 11, 12, 12,  9,  9,\n",
       "       13, 10,  9,  6,  6, 11, 12,  5,  9, 10,  8, 14,  8,  9, 15, 11, 11,\n",
       "        8, 11, 10, 11,  8, 17, 12, 17,  6,  8,  8, 11, 10, 10, 10,  5, 14,\n",
       "       11, 11, 15,  9, 10,  7, 14,  8,  9,  6, 14, 12,  9,  8, 11,  8,  7,\n",
       "       15, 13,  8, 17, 11,  8,  9, 17,  5, 14,  8,  9,  9,  3,  7,  8,  9,\n",
       "       13,  7,  8, 11, 13, 18, 11,  6,  7,  7,  9, 16, 10,  8, 12,  6, 11,\n",
       "        6, 14, 14, 12,  5, 16, 16,  9, 12,  7,  9, 14,  5,  8,  6, 13,  9,\n",
       "        9, 10,  8,  7, 10,  4,  7, 10,  9, 10, 15, 10, 10, 12,  7, 10,  5,\n",
       "        7,  7, 13,  7,  8,  9, 10,  9, 13, 11,  7, 14, 14,  9, 11, 12, 12,\n",
       "       13,  6, 12,  7,  8,  5, 10,  8,  8, 13, 15, 11, 12, 11,  8,  8, 13,\n",
       "       10,  9, 13, 10,  9,  8,  4,  7, 13, 13, 10, 10, 14, 11, 12,  5,  9,\n",
       "       11,  7, 13,  6, 10,  6, 13, 11,  9, 15,  5, 11,  7, 10,  7, 16, 14,\n",
       "       12, 10,  9, 13, 14,  6, 11,  5, 11, 11, 12, 12, 14,  9, 10, 16, 16,\n",
       "        8,  9, 10,  7, 10, 12, 12,  8, 13,  9,  8,  9,  8, 16, 11, 13, 13,\n",
       "       10, 10,  6, 12,  6,  8,  6,  6, 10, 12,  7, 13,  9,  8, 12, 10, 16,\n",
       "       10, 10,  9, 15, 18,  5, 18, 10, 19, 10,  7, 13, 12,  9, 10,  8, 10,\n",
       "        4, 14,  8, 10, 11,  6,  9, 18, 10, 13,  3,  7, 10,  8, 11, 12,  5,\n",
       "       15, 14,  8,  5,  7, 14,  5, 13,  9,  7, 12, 13, 13,  6, 11, 10, 12,\n",
       "        7, 12,  9, 10,  7, 12, 13, 10, 12, 15, 14,  6,  9, 10, 10,  9,  5,\n",
       "       16,  7,  6, 11, 16, 10, 10, 12,  7, 12, 13, 13,  9, 11, 14, 13,  8,\n",
       "        7,  9,  7,  9,  9,  5, 11, 10, 12, 10,  9,  6, 10, 12,  9,  9, 10,\n",
       "        9, 11, 13, 15, 10,  9, 14, 12,  4, 13, 11, 12, 14,  6,  5, 14, 10,\n",
       "        9, 13,  6,  8, 13,  8, 11,  6, 11,  9,  4, 13, 15, 15, 12, 13,  9,\n",
       "       12, 10,  7, 12,  8,  9,  7,  6, 15,  8,  9, 13, 14,  8, 16,  9,  9,\n",
       "        8,  8, 15,  8,  5,  6, 10,  9, 11,  3, 14, 13,  9,  6, 15, 16, 12,\n",
       "        8,  9, 13, 16, 10,  9, 10, 13, 11,  7,  9, 12, 13,  5, 15,  7, 13,\n",
       "       11,  4,  8,  9,  9,  9, 16,  6, 10,  6,  7, 14, 10, 10,  4,  7, 13,\n",
       "       13,  9, 12,  4,  7, 12,  9, 10,  9,  7, 12, 10,  8,  5, 11, 10,  9,\n",
       "       13,  5,  6,  9,  8,  9,  8,  7, 11,  9, 17,  6, 12,  9, 11, 13, 11,\n",
       "        5,  8,  6, 10,  8,  8,  9, 14,  6,  6, 11, 11, 12,  5,  8, 19, 10,\n",
       "        9,  9, 15, 13, 13,  9, 14,  8, 20, 13, 10,  8, 13,  9,  6, 14, 15,\n",
       "        7, 12,  9,  7,  9,  7,  9, 15,  4,  9,  8,  7, 11, 10, 15,  8,  5,\n",
       "       10,  8, 11, 10, 10,  7, 11, 12, 15, 11,  6, 10, 13, 15,  5,  3, 11,\n",
       "       12,  4, 12,  5,  6,  7, 12, 10, 11, 10,  7, 10, 17,  8,  9, 13,  8,\n",
       "        9, 10,  4, 11, 10, 14, 15,  7,  3,  6, 12,  7, 12, 11, 13,  9, 11,\n",
       "       12, 16,  7,  8,  9,  9, 10, 13,  8, 10, 11, 14, 10,  8, 13, 12, 10,\n",
       "       12, 12,  7,  9, 11, 10,  9,  8,  8,  7, 10, 11, 11, 22,  8,  8, 18,\n",
       "       13,  9, 11, 14, 11, 13, 11,  6, 15, 15, 10, 13, 14, 17,  8,  6, 12,\n",
       "       11, 16, 12,  8,  4, 11, 10,  6,  5, 13,  6, 13,  6, 11],\n",
       "      dtype=int64)"
      ]
     },
     "execution_count": 82,
     "metadata": {},
     "output_type": "execute_result"
    }
   ],
   "source": [
    "defects"
   ]
  },
  {
   "cell_type": "code",
   "execution_count": 83,
   "metadata": {},
   "outputs": [
    {
     "data": {
      "text/plain": [
       "array([ 0.,  1.,  2.,  3.,  4.,  5.,  6.,  7.,  8.,  9., 10., 11., 12.,\n",
       "       13., 14., 15., 16., 17., 18., 19., 20., 21., 22., 23., 24., 25.,\n",
       "       26., 27., 28., 29., 30., 31., 32., 33., 34., 35., 36., 37., 38.,\n",
       "       39., 40., 41., 42., 43., 44., 45., 46., 47., 48., 49., 50.])"
      ]
     },
     "execution_count": 83,
     "metadata": {},
     "output_type": "execute_result"
    }
   ],
   "source": [
    "bins"
   ]
  },
  {
   "cell_type": "code",
   "execution_count": 84,
   "metadata": {},
   "outputs": [
    {
     "data": {
      "text/plain": [
       "array([  0,   0,   1,   7,  18,  41,  64,  88, 100, 129, 132, 109,  93,\n",
       "        92,  43,  36,  23,  11,   6,   4,   2,   0,   1,   0,   0,   0,\n",
       "         0,   0,   0,   0,   0,   0,   0,   0,   0,   0,   0,   0,   0,\n",
       "         0,   0,   0,   0,   0,   0,   0,   0,   0,   0,   0], dtype=int64)"
      ]
     },
     "execution_count": 84,
     "metadata": {},
     "output_type": "execute_result"
    }
   ],
   "source": [
    "defect_counts"
   ]
  },
  {
   "cell_type": "code",
   "execution_count": 85,
   "metadata": {},
   "outputs": [
    {
     "data": {
      "text/plain": [
       "array([   0,    0,    1,    8,   26,   67,  131,  219,  319,  448,  580,\n",
       "        689,  782,  874,  917,  953,  976,  987,  993,  997,  999,  999,\n",
       "       1000, 1000, 1000, 1000, 1000, 1000, 1000, 1000, 1000, 1000, 1000,\n",
       "       1000, 1000, 1000, 1000, 1000, 1000, 1000, 1000, 1000, 1000, 1000,\n",
       "       1000, 1000, 1000, 1000, 1000, 1000], dtype=int64)"
      ]
     },
     "execution_count": 85,
     "metadata": {},
     "output_type": "execute_result"
    }
   ],
   "source": [
    "experimental_cdf_defects"
   ]
  },
  {
   "cell_type": "code",
   "execution_count": 86,
   "metadata": {},
   "outputs": [],
   "source": [
    "experimental_cdf_defects_percent = experimental_cdf_defects / n_simulations_qc * 100"
   ]
  },
  {
   "cell_type": "code",
   "execution_count": 87,
   "metadata": {},
   "outputs": [
    {
     "data": {
      "application/vnd.plotly.v1+json": {
       "config": {
        "plotlyServerURL": "https://plot.ly"
       },
       "data": [
        {
         "marker": {
          "color": "red"
         },
         "mode": "markers+lines",
         "name": "Theoretical CDF",
         "type": "scatter",
         "x": [
          0,
          1,
          2,
          3,
          4,
          5,
          6,
          7,
          8,
          9,
          10,
          11,
          12,
          13,
          14,
          15,
          16,
          17,
          18,
          19,
          20,
          21,
          22,
          23,
          24,
          25,
          26,
          27,
          28,
          29,
          30,
          31,
          32,
          33,
          34,
          35,
          36,
          37,
          38,
          39,
          40,
          41,
          42,
          43,
          44,
          45,
          46,
          47,
          48,
          49
         ],
         "y": [
          0.004317124741065827,
          0.04792444535789151,
          0.2679431993791488,
          1.007265477201421,
          2.868639999900424,
          6.613951160725085,
          12.887662616988615,
          21.8863194532454,
          33.168726319915834,
          45.730059217488304,
          58.304080330109755,
          69.7350086143105,
          79.25116019097244,
          86.5564886740666,
          91.75876804839113,
          95.21294142420528,
          97.3608964590392,
          98.61674182699916,
          99.30950052324192,
          99.67116402122726,
          99.85035184522908,
          99.9348174861727,
          99.9727843651827,
          99.98909161492877,
          99.99579707915517,
          99.99844133494706,
          99.99944294698945,
          99.99980791897946,
          99.99993602783454,
          99.9999794001115,
          99.9999935800714,
          99.99999806184432,
          99.99999943268963,
          99.99999983886603,
          99.99999995555426,
          99.99999998808552,
          99.99999999689379,
          99.99999999921188,
          99.99999999980527,
          99.99999999995312,
          99.999999999989,
          99.99999999999748,
          99.99999999999943,
          99.99999999999987,
          99.99999999999997,
          100,
          100,
          100,
          100,
          100
         ]
        },
        {
         "marker": {
          "color": "blue"
         },
         "mode": "markers+lines",
         "name": "Experimental CDF",
         "type": "scatter",
         "x": [
          0,
          1,
          2,
          3,
          4,
          5,
          6,
          7,
          8,
          9,
          10,
          11,
          12,
          13,
          14,
          15,
          16,
          17,
          18,
          19,
          20,
          21,
          22,
          23,
          24,
          25,
          26,
          27,
          28,
          29,
          30,
          31,
          32,
          33,
          34,
          35,
          36,
          37,
          38,
          39,
          40,
          41,
          42,
          43,
          44,
          45,
          46,
          47,
          48,
          49
         ],
         "y": [
          0,
          0,
          0.1,
          0.8,
          2.6,
          6.7,
          13.100000000000001,
          21.9,
          31.900000000000002,
          44.800000000000004,
          57.99999999999999,
          68.89999999999999,
          78.2,
          87.4,
          91.7,
          95.3,
          97.6,
          98.7,
          99.3,
          99.7,
          99.9,
          99.9,
          100,
          100,
          100,
          100,
          100,
          100,
          100,
          100,
          100,
          100,
          100,
          100,
          100,
          100,
          100,
          100,
          100,
          100,
          100,
          100,
          100,
          100,
          100,
          100,
          100,
          100,
          100,
          100
         ]
        }
       ],
       "layout": {
        "bargap": 0.1,
        "template": {
         "data": {
          "bar": [
           {
            "error_x": {
             "color": "#2a3f5f"
            },
            "error_y": {
             "color": "#2a3f5f"
            },
            "marker": {
             "line": {
              "color": "#E5ECF6",
              "width": 0.5
             },
             "pattern": {
              "fillmode": "overlay",
              "size": 10,
              "solidity": 0.2
             }
            },
            "type": "bar"
           }
          ],
          "barpolar": [
           {
            "marker": {
             "line": {
              "color": "#E5ECF6",
              "width": 0.5
             },
             "pattern": {
              "fillmode": "overlay",
              "size": 10,
              "solidity": 0.2
             }
            },
            "type": "barpolar"
           }
          ],
          "carpet": [
           {
            "aaxis": {
             "endlinecolor": "#2a3f5f",
             "gridcolor": "white",
             "linecolor": "white",
             "minorgridcolor": "white",
             "startlinecolor": "#2a3f5f"
            },
            "baxis": {
             "endlinecolor": "#2a3f5f",
             "gridcolor": "white",
             "linecolor": "white",
             "minorgridcolor": "white",
             "startlinecolor": "#2a3f5f"
            },
            "type": "carpet"
           }
          ],
          "choropleth": [
           {
            "colorbar": {
             "outlinewidth": 0,
             "ticks": ""
            },
            "type": "choropleth"
           }
          ],
          "contour": [
           {
            "colorbar": {
             "outlinewidth": 0,
             "ticks": ""
            },
            "colorscale": [
             [
              0,
              "#0d0887"
             ],
             [
              0.1111111111111111,
              "#46039f"
             ],
             [
              0.2222222222222222,
              "#7201a8"
             ],
             [
              0.3333333333333333,
              "#9c179e"
             ],
             [
              0.4444444444444444,
              "#bd3786"
             ],
             [
              0.5555555555555556,
              "#d8576b"
             ],
             [
              0.6666666666666666,
              "#ed7953"
             ],
             [
              0.7777777777777778,
              "#fb9f3a"
             ],
             [
              0.8888888888888888,
              "#fdca26"
             ],
             [
              1,
              "#f0f921"
             ]
            ],
            "type": "contour"
           }
          ],
          "contourcarpet": [
           {
            "colorbar": {
             "outlinewidth": 0,
             "ticks": ""
            },
            "type": "contourcarpet"
           }
          ],
          "heatmap": [
           {
            "colorbar": {
             "outlinewidth": 0,
             "ticks": ""
            },
            "colorscale": [
             [
              0,
              "#0d0887"
             ],
             [
              0.1111111111111111,
              "#46039f"
             ],
             [
              0.2222222222222222,
              "#7201a8"
             ],
             [
              0.3333333333333333,
              "#9c179e"
             ],
             [
              0.4444444444444444,
              "#bd3786"
             ],
             [
              0.5555555555555556,
              "#d8576b"
             ],
             [
              0.6666666666666666,
              "#ed7953"
             ],
             [
              0.7777777777777778,
              "#fb9f3a"
             ],
             [
              0.8888888888888888,
              "#fdca26"
             ],
             [
              1,
              "#f0f921"
             ]
            ],
            "type": "heatmap"
           }
          ],
          "heatmapgl": [
           {
            "colorbar": {
             "outlinewidth": 0,
             "ticks": ""
            },
            "colorscale": [
             [
              0,
              "#0d0887"
             ],
             [
              0.1111111111111111,
              "#46039f"
             ],
             [
              0.2222222222222222,
              "#7201a8"
             ],
             [
              0.3333333333333333,
              "#9c179e"
             ],
             [
              0.4444444444444444,
              "#bd3786"
             ],
             [
              0.5555555555555556,
              "#d8576b"
             ],
             [
              0.6666666666666666,
              "#ed7953"
             ],
             [
              0.7777777777777778,
              "#fb9f3a"
             ],
             [
              0.8888888888888888,
              "#fdca26"
             ],
             [
              1,
              "#f0f921"
             ]
            ],
            "type": "heatmapgl"
           }
          ],
          "histogram": [
           {
            "marker": {
             "pattern": {
              "fillmode": "overlay",
              "size": 10,
              "solidity": 0.2
             }
            },
            "type": "histogram"
           }
          ],
          "histogram2d": [
           {
            "colorbar": {
             "outlinewidth": 0,
             "ticks": ""
            },
            "colorscale": [
             [
              0,
              "#0d0887"
             ],
             [
              0.1111111111111111,
              "#46039f"
             ],
             [
              0.2222222222222222,
              "#7201a8"
             ],
             [
              0.3333333333333333,
              "#9c179e"
             ],
             [
              0.4444444444444444,
              "#bd3786"
             ],
             [
              0.5555555555555556,
              "#d8576b"
             ],
             [
              0.6666666666666666,
              "#ed7953"
             ],
             [
              0.7777777777777778,
              "#fb9f3a"
             ],
             [
              0.8888888888888888,
              "#fdca26"
             ],
             [
              1,
              "#f0f921"
             ]
            ],
            "type": "histogram2d"
           }
          ],
          "histogram2dcontour": [
           {
            "colorbar": {
             "outlinewidth": 0,
             "ticks": ""
            },
            "colorscale": [
             [
              0,
              "#0d0887"
             ],
             [
              0.1111111111111111,
              "#46039f"
             ],
             [
              0.2222222222222222,
              "#7201a8"
             ],
             [
              0.3333333333333333,
              "#9c179e"
             ],
             [
              0.4444444444444444,
              "#bd3786"
             ],
             [
              0.5555555555555556,
              "#d8576b"
             ],
             [
              0.6666666666666666,
              "#ed7953"
             ],
             [
              0.7777777777777778,
              "#fb9f3a"
             ],
             [
              0.8888888888888888,
              "#fdca26"
             ],
             [
              1,
              "#f0f921"
             ]
            ],
            "type": "histogram2dcontour"
           }
          ],
          "mesh3d": [
           {
            "colorbar": {
             "outlinewidth": 0,
             "ticks": ""
            },
            "type": "mesh3d"
           }
          ],
          "parcoords": [
           {
            "line": {
             "colorbar": {
              "outlinewidth": 0,
              "ticks": ""
             }
            },
            "type": "parcoords"
           }
          ],
          "pie": [
           {
            "automargin": true,
            "type": "pie"
           }
          ],
          "scatter": [
           {
            "fillpattern": {
             "fillmode": "overlay",
             "size": 10,
             "solidity": 0.2
            },
            "type": "scatter"
           }
          ],
          "scatter3d": [
           {
            "line": {
             "colorbar": {
              "outlinewidth": 0,
              "ticks": ""
             }
            },
            "marker": {
             "colorbar": {
              "outlinewidth": 0,
              "ticks": ""
             }
            },
            "type": "scatter3d"
           }
          ],
          "scattercarpet": [
           {
            "marker": {
             "colorbar": {
              "outlinewidth": 0,
              "ticks": ""
             }
            },
            "type": "scattercarpet"
           }
          ],
          "scattergeo": [
           {
            "marker": {
             "colorbar": {
              "outlinewidth": 0,
              "ticks": ""
             }
            },
            "type": "scattergeo"
           }
          ],
          "scattergl": [
           {
            "marker": {
             "colorbar": {
              "outlinewidth": 0,
              "ticks": ""
             }
            },
            "type": "scattergl"
           }
          ],
          "scattermapbox": [
           {
            "marker": {
             "colorbar": {
              "outlinewidth": 0,
              "ticks": ""
             }
            },
            "type": "scattermapbox"
           }
          ],
          "scatterpolar": [
           {
            "marker": {
             "colorbar": {
              "outlinewidth": 0,
              "ticks": ""
             }
            },
            "type": "scatterpolar"
           }
          ],
          "scatterpolargl": [
           {
            "marker": {
             "colorbar": {
              "outlinewidth": 0,
              "ticks": ""
             }
            },
            "type": "scatterpolargl"
           }
          ],
          "scatterternary": [
           {
            "marker": {
             "colorbar": {
              "outlinewidth": 0,
              "ticks": ""
             }
            },
            "type": "scatterternary"
           }
          ],
          "surface": [
           {
            "colorbar": {
             "outlinewidth": 0,
             "ticks": ""
            },
            "colorscale": [
             [
              0,
              "#0d0887"
             ],
             [
              0.1111111111111111,
              "#46039f"
             ],
             [
              0.2222222222222222,
              "#7201a8"
             ],
             [
              0.3333333333333333,
              "#9c179e"
             ],
             [
              0.4444444444444444,
              "#bd3786"
             ],
             [
              0.5555555555555556,
              "#d8576b"
             ],
             [
              0.6666666666666666,
              "#ed7953"
             ],
             [
              0.7777777777777778,
              "#fb9f3a"
             ],
             [
              0.8888888888888888,
              "#fdca26"
             ],
             [
              1,
              "#f0f921"
             ]
            ],
            "type": "surface"
           }
          ],
          "table": [
           {
            "cells": {
             "fill": {
              "color": "#EBF0F8"
             },
             "line": {
              "color": "white"
             }
            },
            "header": {
             "fill": {
              "color": "#C8D4E3"
             },
             "line": {
              "color": "white"
             }
            },
            "type": "table"
           }
          ]
         },
         "layout": {
          "annotationdefaults": {
           "arrowcolor": "#2a3f5f",
           "arrowhead": 0,
           "arrowwidth": 1
          },
          "autotypenumbers": "strict",
          "coloraxis": {
           "colorbar": {
            "outlinewidth": 0,
            "ticks": ""
           }
          },
          "colorscale": {
           "diverging": [
            [
             0,
             "#8e0152"
            ],
            [
             0.1,
             "#c51b7d"
            ],
            [
             0.2,
             "#de77ae"
            ],
            [
             0.3,
             "#f1b6da"
            ],
            [
             0.4,
             "#fde0ef"
            ],
            [
             0.5,
             "#f7f7f7"
            ],
            [
             0.6,
             "#e6f5d0"
            ],
            [
             0.7,
             "#b8e186"
            ],
            [
             0.8,
             "#7fbc41"
            ],
            [
             0.9,
             "#4d9221"
            ],
            [
             1,
             "#276419"
            ]
           ],
           "sequential": [
            [
             0,
             "#0d0887"
            ],
            [
             0.1111111111111111,
             "#46039f"
            ],
            [
             0.2222222222222222,
             "#7201a8"
            ],
            [
             0.3333333333333333,
             "#9c179e"
            ],
            [
             0.4444444444444444,
             "#bd3786"
            ],
            [
             0.5555555555555556,
             "#d8576b"
            ],
            [
             0.6666666666666666,
             "#ed7953"
            ],
            [
             0.7777777777777778,
             "#fb9f3a"
            ],
            [
             0.8888888888888888,
             "#fdca26"
            ],
            [
             1,
             "#f0f921"
            ]
           ],
           "sequentialminus": [
            [
             0,
             "#0d0887"
            ],
            [
             0.1111111111111111,
             "#46039f"
            ],
            [
             0.2222222222222222,
             "#7201a8"
            ],
            [
             0.3333333333333333,
             "#9c179e"
            ],
            [
             0.4444444444444444,
             "#bd3786"
            ],
            [
             0.5555555555555556,
             "#d8576b"
            ],
            [
             0.6666666666666666,
             "#ed7953"
            ],
            [
             0.7777777777777778,
             "#fb9f3a"
            ],
            [
             0.8888888888888888,
             "#fdca26"
            ],
            [
             1,
             "#f0f921"
            ]
           ]
          },
          "colorway": [
           "#636efa",
           "#EF553B",
           "#00cc96",
           "#ab63fa",
           "#FFA15A",
           "#19d3f3",
           "#FF6692",
           "#B6E880",
           "#FF97FF",
           "#FECB52"
          ],
          "font": {
           "color": "#2a3f5f"
          },
          "geo": {
           "bgcolor": "white",
           "lakecolor": "white",
           "landcolor": "#E5ECF6",
           "showlakes": true,
           "showland": true,
           "subunitcolor": "white"
          },
          "hoverlabel": {
           "align": "left"
          },
          "hovermode": "closest",
          "mapbox": {
           "style": "light"
          },
          "paper_bgcolor": "white",
          "plot_bgcolor": "#E5ECF6",
          "polar": {
           "angularaxis": {
            "gridcolor": "white",
            "linecolor": "white",
            "ticks": ""
           },
           "bgcolor": "#E5ECF6",
           "radialaxis": {
            "gridcolor": "white",
            "linecolor": "white",
            "ticks": ""
           }
          },
          "scene": {
           "xaxis": {
            "backgroundcolor": "#E5ECF6",
            "gridcolor": "white",
            "gridwidth": 2,
            "linecolor": "white",
            "showbackground": true,
            "ticks": "",
            "zerolinecolor": "white"
           },
           "yaxis": {
            "backgroundcolor": "#E5ECF6",
            "gridcolor": "white",
            "gridwidth": 2,
            "linecolor": "white",
            "showbackground": true,
            "ticks": "",
            "zerolinecolor": "white"
           },
           "zaxis": {
            "backgroundcolor": "#E5ECF6",
            "gridcolor": "white",
            "gridwidth": 2,
            "linecolor": "white",
            "showbackground": true,
            "ticks": "",
            "zerolinecolor": "white"
           }
          },
          "shapedefaults": {
           "line": {
            "color": "#2a3f5f"
           }
          },
          "ternary": {
           "aaxis": {
            "gridcolor": "white",
            "linecolor": "white",
            "ticks": ""
           },
           "baxis": {
            "gridcolor": "white",
            "linecolor": "white",
            "ticks": ""
           },
           "bgcolor": "#E5ECF6",
           "caxis": {
            "gridcolor": "white",
            "linecolor": "white",
            "ticks": ""
           }
          },
          "title": {
           "x": 0.05
          },
          "xaxis": {
           "automargin": true,
           "gridcolor": "white",
           "linecolor": "white",
           "ticks": "",
           "title": {
            "standoff": 15
           },
           "zerolinecolor": "white",
           "zerolinewidth": 2
          },
          "yaxis": {
           "automargin": true,
           "gridcolor": "white",
           "linecolor": "white",
           "ticks": "",
           "title": {
            "standoff": 15
           },
           "zerolinecolor": "white",
           "zerolinewidth": 2
          }
         }
        },
        "title": {
         "text": "Manufacturing Defects Simulation (Percentage)"
        },
        "xaxis": {
         "title": {
          "text": "Number of Defective Items"
         }
        },
        "yaxis": {
         "title": {
          "text": "Percentage"
         }
        }
       }
      }
     },
     "metadata": {},
     "output_type": "display_data"
    }
   ],
   "source": [
    "fig = go.Figure()\n",
    "fig.add_trace(go.Scatter(\n",
    "    x=k_values_defects,\n",
    "    y=cumulative_probabilities_defects,\n",
    "    mode='markers+lines',\n",
    "    name='Theoretical CDF',\n",
    "    marker_color='red'\n",
    "))\n",
    "fig.add_trace(go.Scatter(\n",
    "    x=np.arange(50),\n",
    "    y=experimental_cdf_defects_percent,  # This should be calculated as described earlier\n",
    "    mode='markers+lines',\n",
    "    name='Experimental CDF',\n",
    "    marker_color='blue'\n",
    "))\n",
    "fig.update_layout(\n",
    "    title=\"Manufacturing Defects Simulation (Percentage)\",\n",
    "    xaxis_title=\"Number of Defective Items\",\n",
    "    yaxis_title=\"Percentage\",\n",
    "    bargap=0.1\n",
    ")\n",
    "fig.show()"
   ]
  },
  {
   "cell_type": "code",
   "execution_count": 88,
   "metadata": {},
   "outputs": [],
   "source": [
    "\n",
    "# # Example data: Let's say we have a dataset where 'x' is a predictor variable (e.g., dosage of a drug),\n",
    "# # and 'y' is the number of successes (e.g., number of patients recovered) out of 'n' trials (e.g., total patients treated)\n",
    "\n",
    "# # Generating some example data\n",
    "# np.random.seed(42)\n",
    "# x = np.random.normal(0, 1, 100)\n",
    "# n_trials = 10\n",
    "# p = expit(x)  # Sigmoid function to map x to probabilities\n",
    "# y = np.random.binomial(n_trials, p)"
   ]
  },
  {
   "cell_type": "code",
   "execution_count": 89,
   "metadata": {},
   "outputs": [],
   "source": [
    "# # Adding the intercept to input data\n",
    "# x = sm.add_constant(x)"
   ]
  },
  {
   "cell_type": "code",
   "execution_count": 90,
   "metadata": {},
   "outputs": [],
   "source": [
    "# # Fitting a binomial logistic regression model\n",
    "# model = sm.GLM(y, x, family=sm.families.Binomial())\n",
    "# result = model.fit()\n",
    "\n",
    "# print(result.summary())"
   ]
  }
 ],
 "metadata": {
  "kernelspec": {
   "display_name": "venv",
   "language": "python",
   "name": "python3"
  },
  "language_info": {
   "codemirror_mode": {
    "name": "ipython",
    "version": 3
   },
   "file_extension": ".py",
   "mimetype": "text/x-python",
   "name": "python",
   "nbconvert_exporter": "python",
   "pygments_lexer": "ipython3",
   "version": "3.9.1"
  }
 },
 "nbformat": 4,
 "nbformat_minor": 2
}
