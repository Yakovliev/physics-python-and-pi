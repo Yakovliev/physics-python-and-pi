{
 "cells": [
  {
   "cell_type": "markdown",
   "metadata": {},
   "source": [
    "is_safe(board, row, col, n): This function checks if placing a queen at board[row][col] is safe by verifying no other queens are in the same row, column, or diagonal.\n",
    "\n",
    "solve_nqueens_util(board, col, n, solutions): This function recursively tries to place queens column by column. If it successfully places all N queens, it adds the board configuration to the list of solutions.\n",
    "\n",
    "solve_nqueens(n): This is the main function that initializes the board and calls the utility function to start solving the problem. It returns a list of all possible solutions.\n",
    "\n",
    "visualize_nqueens(solution): This function takes a board configuration (solution) and visualizes it using matplotlib, displaying the board and placing the queens in the appropriate positions."
   ]
  },
  {
   "cell_type": "code",
   "execution_count": 21,
   "metadata": {},
   "outputs": [],
   "source": [
    "import matplotlib.pyplot as plt\n",
    "import numpy as np"
   ]
  },
  {
   "cell_type": "code",
   "execution_count": 22,
   "metadata": {},
   "outputs": [
    {
     "name": "stdout",
     "output_type": "stream",
     "text": [
      "Number of solutions for 4-Queens: 2\n",
      "[0, 0, 1, 0]\n",
      "[1, 0, 0, 0]\n",
      "[0, 0, 0, 1]\n",
      "[0, 1, 0, 0]\n",
      "\n",
      "[0, 1, 0, 0]\n",
      "[0, 0, 0, 1]\n",
      "[1, 0, 0, 0]\n",
      "[0, 0, 1, 0]\n",
      "\n"
     ]
    }
   ],
   "source": [
    "def is_safe(board, row, col, n):\n",
    "    # Check this row on left side\n",
    "    for i in range(col):\n",
    "        if board[row][i] == 1:\n",
    "            return False\n",
    "    \n",
    "    # Check upper diagonal on left side\n",
    "    for i, j in zip(range(row, -1, -1), range(col, -1, -1)):\n",
    "        if board[i][j] == 1:\n",
    "            return False\n",
    "    \n",
    "    # Check lower diagonal on left side\n",
    "    for i, j in zip(range(row, n, 1), range(col, -1, -1)):\n",
    "        if board[i][j] == 1:\n",
    "            return False\n",
    "    \n",
    "    return True\n",
    "\n",
    "def solve_nqueens_util(board, col, n, solutions):\n",
    "    # If all queens are placed\n",
    "    if col >= n:\n",
    "        solutions.append([row[:] for row in board])\n",
    "        return True\n",
    "    \n",
    "    res = False\n",
    "    for i in range(n):\n",
    "        if is_safe(board, i, col, n):\n",
    "            # Place this queen in board[i][col]\n",
    "            board[i][col] = 1\n",
    "            # Recur to place rest of the queens\n",
    "            res = solve_nqueens_util(board, col + 1, n, solutions) or res\n",
    "            # If placing queen in board[i][col] doesn't lead to a solution\n",
    "            # then remove queen from board[i][col]\n",
    "            board[i][col] = 0\n",
    "    \n",
    "    return res\n",
    "\n",
    "def solve_nqueens(n):\n",
    "    board = [[0 for _ in range(n)] for _ in range(n)]\n",
    "    solutions = []\n",
    "    solve_nqueens_util(board, 0, n, solutions)\n",
    "    return solutions\n",
    "\n",
    "# Example usage:\n",
    "n = 4\n",
    "solutions = solve_nqueens(n)\n",
    "print(f\"Number of solutions for {n}-Queens: {len(solutions)}\")\n",
    "for sol in solutions:\n",
    "    for row in sol:\n",
    "        print(row)\n",
    "    print()\n"
   ]
  },
  {
   "cell_type": "code",
   "execution_count": 23,
   "metadata": {},
   "outputs": [],
   "source": [
    "def visualize_nqueens(solution):\n",
    "    n = len(solution)\n",
    "    board = np.zeros((n, n))\n",
    "    for i in range(n):\n",
    "        for j in range(n):\n",
    "            if solution[i][j] == 1:\n",
    "                board[i][j] = 1\n",
    "    \n",
    "    fig, ax = plt.subplots()\n",
    "    ax.matshow(board, cmap=\"binary\")\n",
    "    \n",
    "    for i in range(n):\n",
    "        for j in range(n):\n",
    "            if solution[i][j] == 1:\n",
    "                ax.text(j, i, 'Q', ha='center', va='center', color='red', fontsize=24)\n",
    "    \n",
    "    plt.xticks([])\n",
    "    plt.yticks([])\n",
    "    plt.show()"
   ]
  },
  {
   "cell_type": "code",
   "execution_count": 24,
   "metadata": {},
   "outputs": [
    {
     "data": {
      "image/png": "[encoded data removed]",
      "text/plain": [
       "<Figure size 640x480 with 1 Axes>"
      ]
     },
     "metadata": {},
     "output_type": "display_data"
    },
    {
     "data": {
      "image/png": "[encoded data removed]",
      "text/plain": [
       "<Figure size 640x480 with 1 Axes>"
      ]
     },
     "metadata": {},
     "output_type": "display_data"
    }
   ],
   "source": [
    "# Example usage:\n",
    "for sol in solutions:\n",
    "    visualize_nqueens(sol)"
   ]
  }
 ],
 "metadata": {
  "kernelspec": {
   "display_name": "venv",
   "language": "python",
   "name": "python3"
  },
  "language_info": {
   "codemirror_mode": {
    "name": "ipython",
    "version": 3
   },
   "file_extension": ".py",
   "mimetype": "text/x-python",
   "name": "python",
   "nbconvert_exporter": "python",
   "pygments_lexer": "ipython3",
   "version": "3.9.1"
  }
 },
 "nbformat": 4,
 "nbformat_minor": 2
}
