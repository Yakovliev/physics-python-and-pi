{
 "cells": [
  {
   "cell_type": "code",
   "execution_count": 31,
   "metadata": {},
   "outputs": [],
   "source": [
    "import math\n",
    "\n",
    "class AirCalculations:\n",
    "    # Air pressure 1 atm in Pa\n",
    "    AIR_PRESSURE = 101325.0\n",
    "\n",
    "    @staticmethod\n",
    "    def calculate_pressure_saturated_steam(temperature):\n",
    "        \"\"\"\n",
    "        Calculate pressure of saturated steam\n",
    "        \n",
    "        Args:\n",
    "            temperature: Air temperature\n",
    "        Returns:\n",
    "            Pressure of saturated steam [kPa]\n",
    "        \"\"\"\n",
    "        if temperature < -50:\n",
    "            return -1\n",
    "        elif temperature < 0:\n",
    "            pressure = math.exp((1738.4 + 28.74 * temperature) / (271 + temperature))\n",
    "            return pressure\n",
    "        elif temperature <= 100:\n",
    "            pressure = math.exp((1500.3 + 23.5 * temperature) / (234 + temperature))\n",
    "            return pressure\n",
    "        else:\n",
    "            return -1\n",
    "\n",
    "    @staticmethod\n",
    "    def calculate_absolute_humidity(relative_humidity, temperature):\n",
    "        \"\"\"\n",
    "        Calculation of absolute humidity\n",
    "        \n",
    "        Args:\n",
    "            relative_humidity: Relative humidity\n",
    "            temperature: Temperature\n",
    "        Returns:\n",
    "            Absolute humidity\n",
    "        \"\"\"\n",
    "        saturated_vapor_pressure = AirCalculations.calculate_pressure_saturated_steam(temperature)\n",
    "        \n",
    "        absolute_humidity = 0.6222 * (relative_humidity / 100) * saturated_vapor_pressure / \\\n",
    "            ((AirCalculations.AIR_PRESSURE / 1000) - (relative_humidity / 100) * (saturated_vapor_pressure / 1000))\n",
    "        \n",
    "        return absolute_humidity\n",
    "\n",
    "    @staticmethod\n",
    "    def calculate_enthalpy_by_rh(relative_humidity, temperature):\n",
    "        \"\"\"\n",
    "        Calculate enthalpy with relative humidity data\n",
    "        \n",
    "        Args:\n",
    "            relative_humidity: Relative humidity [%]\n",
    "            temperature: Temperature [C]\n",
    "        Returns:\n",
    "            Enthalpy [kJ/kg]\n",
    "        \"\"\"\n",
    "        absolute_humidity = AirCalculations.calculate_absolute_humidity(relative_humidity, temperature)\n",
    "        air_enthalpy = 1.01 * temperature + (2501.0 + 1.86 * temperature) * absolute_humidity / 1000.0\n",
    "        return air_enthalpy\n",
    "\n",
    "    @staticmethod\n",
    "    def calculate_enthalpy_by_ah(absolute_humidity, temperature):\n",
    "        \"\"\"\n",
    "        Calculate enthalpy with absolute humidity data\n",
    "        \n",
    "        Args:\n",
    "            absolute_humidity: Absolute humidity [g/kg]\n",
    "            temperature: Temperature [C]\n",
    "        Returns:\n",
    "            Enthalpy [kJ/kg]\n",
    "        \"\"\"\n",
    "        air_enthalpy = 1.01 * temperature + (2501.0 + 1.86 * temperature) * absolute_humidity / 1000.0\n",
    "        return air_enthalpy\n",
    "\n",
    "    @staticmethod\n",
    "    def calculate_temperature(absolute_humidity, enthalpy):\n",
    "        \"\"\"\n",
    "        Calculate temperature by absolute humidity and enthalpy\n",
    "        \n",
    "        Args:\n",
    "            absolute_humidity: Absolute humidity [g/kg]\n",
    "            enthalpy: Enthalpy [kJ/kg]\n",
    "        Returns:\n",
    "            Temperature [C]\n",
    "        \"\"\"\n",
    "        temperature = (enthalpy - 2.501 * absolute_humidity) / (1.01 + 1.86 * absolute_humidity / 1000.0)\n",
    "        return temperature"
   ]
  },
  {
   "cell_type": "code",
   "execution_count": 32,
   "metadata": {},
   "outputs": [],
   "source": [
    "# # Or use directly through the class\n",
    "# enthalpy_rh = AirCalculations.calculate_enthalpy_by_rh(45.033211988927732, 53.568590318735588)\n",
    "# # enthalpy = AirCalculations.calculate_enthalpy_by_rh(50, 25)\n",
    "\n",
    "# enthalpy_ah = AirCalculations.calculate_enthalpy_by_ah(47.503658305869841, 53.568590318735588)\n",
    "\n",
    "# absolute_humidity = AirCalculations.calculate_absolute_humidity(45.033211988927732, 53.568590318735588)"
   ]
  },
  {
   "cell_type": "code",
   "execution_count": 33,
   "metadata": {},
   "outputs": [],
   "source": [
    "# # Or use directly through the class\n",
    "# enthalpy_rh = AirCalculations.calculate_enthalpy_by_rh(37, 20.0)\n",
    "# # enthalpy = AirCalculations.calculate_enthalpy_by_rh(50, 25)\n",
    "\n",
    "# enthalpy_ah = AirCalculations.calculate_enthalpy_by_ah(5.3579525260539285, 20.0)\n",
    "\n",
    "# absolute_humidity = AirCalculations.calculate_absolute_humidity(37, 20.0)"
   ]
  },
  {
   "cell_type": "code",
   "execution_count": 34,
   "metadata": {},
   "outputs": [],
   "source": [
    "# Or use directly through the class\n",
    "enthalpy_rh = AirCalculations.calculate_enthalpy_by_rh(45, 50)\n",
    "# enthalpy = AirCalculations.calculate_enthalpy_by_rh(50, 25)\n",
    "\n",
    "enthalpy_ah = AirCalculations.calculate_enthalpy_by_ah(36.055805567463089, 50)\n",
    "\n",
    "absolute_humidity = AirCalculations.calculate_absolute_humidity(45, 50)"
   ]
  },
  {
   "cell_type": "code",
   "execution_count": 35,
   "metadata": {},
   "outputs": [
    {
     "data": {
      "text/plain": [
       "144.02875964199924"
      ]
     },
     "execution_count": 35,
     "metadata": {},
     "output_type": "execute_result"
    }
   ],
   "source": [
    "enthalpy_rh"
   ]
  },
  {
   "cell_type": "code",
   "execution_count": 36,
   "metadata": {},
   "outputs": [
    {
     "data": {
      "text/plain": [
       "144.02875964199924"
      ]
     },
     "execution_count": 36,
     "metadata": {},
     "output_type": "execute_result"
    }
   ],
   "source": [
    "enthalpy_ah"
   ]
  },
  {
   "cell_type": "code",
   "execution_count": 37,
   "metadata": {},
   "outputs": [
    {
     "data": {
      "text/plain": [
       "36.05580556746309"
      ]
     },
     "execution_count": 37,
     "metadata": {},
     "output_type": "execute_result"
    }
   ],
   "source": [
    "absolute_humidity"
   ]
  },
  {
   "cell_type": "code",
   "execution_count": 38,
   "metadata": {},
   "outputs": [
    {
     "data": {
      "text/plain": [
       "36.05580556746309"
      ]
     },
     "execution_count": 38,
     "metadata": {},
     "output_type": "execute_result"
    }
   ],
   "source": [
    "absolute_humidity"
   ]
  },
  {
   "cell_type": "code",
   "execution_count": 39,
   "metadata": {},
   "outputs": [],
   "source": [
    "temp = 50\n",
    "\n",
    "h_OutputRelativeHumidity = 0.5 / AirCalculations.calculate_absolute_humidity(100, temp) * 100\n",
    "\n",
    "absolute_humidity_test = AirCalculations.calculate_absolute_humidity(h_OutputRelativeHumidity, temp)"
   ]
  },
  {
   "cell_type": "code",
   "execution_count": 40,
   "metadata": {},
   "outputs": [
    {
     "data": {
      "text/plain": [
       "0.579834645808611"
      ]
     },
     "execution_count": 40,
     "metadata": {},
     "output_type": "execute_result"
    }
   ],
   "source": [
    "h_OutputRelativeHumidity"
   ]
  },
  {
   "cell_type": "code",
   "execution_count": 41,
   "metadata": {},
   "outputs": [
    {
     "data": {
      "text/plain": [
       "0.43944930905581286"
      ]
     },
     "execution_count": 41,
     "metadata": {},
     "output_type": "execute_result"
    }
   ],
   "source": [
    "absolute_humidity_test"
   ]
  }
 ],
 "metadata": {
  "kernelspec": {
   "display_name": "venv",
   "language": "python",
   "name": "python3"
  },
  "language_info": {
   "codemirror_mode": {
    "name": "ipython",
    "version": 3
   },
   "file_extension": ".py",
   "mimetype": "text/x-python",
   "name": "python",
   "nbconvert_exporter": "python",
   "pygments_lexer": "ipython3",
   "version": "3.9.1"
  }
 },
 "nbformat": 4,
 "nbformat_minor": 2
}
